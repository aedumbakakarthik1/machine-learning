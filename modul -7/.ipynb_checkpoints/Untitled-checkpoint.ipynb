{
 "cells": [
  {
   "cell_type": "code",
   "execution_count": 1,
   "id": "d521625b",
   "metadata": {},
   "outputs": [],
   "source": [
    "import numpy as np"
   ]
  },
  {
   "cell_type": "code",
   "execution_count": 3,
   "id": "15e62b30",
   "metadata": {},
   "outputs": [
    {
     "name": "stderr",
     "output_type": "stream",
     "text": [
      "<>:33: SyntaxWarning: 'int' object is not callable; perhaps you missed a comma?\n",
      "<>:35: SyntaxWarning: 'int' object is not callable; perhaps you missed a comma?\n",
      "<>:33: SyntaxWarning: 'int' object is not callable; perhaps you missed a comma?\n",
      "<>:35: SyntaxWarning: 'int' object is not callable; perhaps you missed a comma?\n",
      "C:\\Users\\aedum\\AppData\\Local\\Temp\\ipykernel_7908\\2778783486.py:33: SyntaxWarning: 'int' object is not callable; perhaps you missed a comma?\n",
      "  dw[i] = (-(2(self.x[:,i]).dot(self.Y - Y_pred)) + self.lambda_parmeter) / self.m\n",
      "C:\\Users\\aedum\\AppData\\Local\\Temp\\ipykernel_7908\\2778783486.py:35: SyntaxWarning: 'int' object is not callable; perhaps you missed a comma?\n",
      "  db[i] = (-(2(self.x[:,i]).dot(self.Y - Y_pred)) - self.lambda_parmeter) / self.m\n"
     ]
    }
   ],
   "source": [
    "# creating the class for Lasso regression\n",
    "class lasso_regression():\n",
    "  # initing the hyperparameters\n",
    "  def __init__(self, learning_rate , no_of_iteration , lambda_parmeter):\n",
    "    self.learning_rate = learning_rate\n",
    "    self.no_of_iteration=no_of_iteration\n",
    "    self.lambda_parmeter=lambda_parmeter\n",
    "  # fitting the dataset into lasso regrssion\n",
    "  def fit(self,X,Y):\n",
    "    # m -> number of datapoints  -> number of rows\n",
    "    # n -> number of inputs feature -> number of columns\n",
    "    self.m , self.n = X.shape\n",
    "    self.w = np.zeros(self.n)\n",
    "    self.b = 0 \n",
    "    self.X=X\n",
    "    self.Y=Y\n",
    "    # implement of Gradient Descent algorithm for optimization\n",
    "    for i in range(no_of_iteration):\n",
    "      self.update_weights()\n",
    "\n",
    "  # fuction for updating the weigths\n",
    "  def update_weights(self, ):\n",
    "    # linear equation of the model\n",
    "    Y_pred = self.predict(self.X)\n",
    "\n",
    "    # gradient (dw,db)\n",
    "\n",
    "\n",
    "    # gradient for weight \n",
    "    dw = np.zeros(self.n)\n",
    "    for i in range(self.n):\n",
    "        if self.w[i]>0:\n",
    "            dw[i] = (-(2(self.x[:,i]).dot(self.Y - Y_pred)) + self.lambda_parmeter) / self.m\n",
    "        else:\n",
    "            db[i] = (-(2(self.x[:,i]).dot(self.Y - Y_pred)) - self.lambda_parmeter) / self.m\n",
    "    # gradient for bias\n",
    "    db = - 2 * np.sum(self.Y -Y_pred)/self.m\n",
    "    # updating the weigth and bias\n",
    "    self.w = self.w - self.learning_rate * dw\n",
    "    self.b = self.b - self.learning_rate * db\n",
    "  #predicting the Target Variable\n",
    "  def predict(self,X):\n",
    "    return X.dot(self.w)+self.b"
   ]
  },
  {
   "cell_type": "code",
   "execution_count": null,
   "id": "7f1f88b6",
   "metadata": {},
   "outputs": [],
   "source": []
  }
 ],
 "metadata": {
  "kernelspec": {
   "display_name": "Python 3 (ipykernel)",
   "language": "python",
   "name": "python3"
  },
  "language_info": {
   "codemirror_mode": {
    "name": "ipython",
    "version": 3
   },
   "file_extension": ".py",
   "mimetype": "text/x-python",
   "name": "python",
   "nbconvert_exporter": "python",
   "pygments_lexer": "ipython3",
   "version": "3.9.12"
  }
 },
 "nbformat": 4,
 "nbformat_minor": 5
}
