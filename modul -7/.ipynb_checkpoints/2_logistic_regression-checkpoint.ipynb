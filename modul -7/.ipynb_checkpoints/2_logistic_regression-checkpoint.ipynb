{
 "cells": [
  {
   "cell_type": "markdown",
   "metadata": {
    "id": "3OHp9XLcpK2-"
   },
   "source": [
    "# Logistic regression\n",
    "Logistic regression is a popular statistical modeling technique used to analyze and model relationships between a binary response variable (i.e., a variable that takes only two values, such as 0 or 1) and one or more predictor variables.\n",
    "                                                                                             \n",
    "\n",
    "                                                                                    \n",
    "In logistic regression, the relationship between the predictor variables and the response variable is modeled using a logistic function, which maps a continuous range of predictor values to a range of probabilities for the response variable. The logistic function is a type of S-shaped curve that allows for the modeling of non-linear relationships between the predictor variables and the response variable.\n",
    "\n",
    "Logistic regression is widely used in many fields, including healthcare, marketing, finance, and social sciences. It is particularly useful for predicting the probability of an event or outcome, such as the likelihood of a customer making a purchase or a patient developing a disease.\n",
    "\n",
    "In Jupiter Notebook, logistic regression can be implemented using various libraries such as scikit-learn, statsmodels, and tensorflow. These libraries provide easy-to-use functions for fitting logistic regression models and making predictions based on the model."
   ]
  },
  {
   "cell_type": "markdown",
   "metadata": {
    "id": "l7x1g2QwpZLz"
   },
   "source": [
    "# The formula for logistic regression\n",
    "\n",
    "The formula for logistic regression is as follows:\n",
    "\n",
    "P(Y=1|X) = 1 / (1 + e^(-Xβ))\n",
    "\n",
    "Where:\n",
    "\n",
    "P(Y=1|X) is the probability of the response variable Y taking the value 1 given the predictor variables X.\n",
    "X is a vector of predictor variables.\n",
    "β is a vector of coefficients that represent the effect of each predictor variable on the response variable.\n",
    "e is the base of the natural logarithm, approximately equal to 2.718.\n",
    "The logistic regression formula models the log-odds (logit) of the probability of the response variable Y taking the value 1 as a linear function of the predictor variables X. The logit function is then transformed using the sigmoid function, which maps the log-odds to a probability between 0 and 1. This allows the logistic regression model to estimate the probability of the response variable taking the value 1 for a given set of predictor variables."
   ]
  },
  {
   "cell_type": "markdown",
   "metadata": {
    "id": "o9D4qVN4pRR9"
   },
   "source": [
    "# The sigmoid function\n",
    "The sigmoid function is a mathematical function that maps any input value to a value between 0 and 1. It is commonly used in logistic regression to transform the log-odds (logit) of the probability of the response variable taking the value 1 into a probability value between 0 and 1.\n",
    "\n",
    "The formula for the sigmoid function is as follows:\n",
    "\n",
    "σ(z) = 1 / (1 + e^(-z))\n",
    "\n",
    "Where:\n",
    "\n",
    "σ(z) is the output of the sigmoid function.\n",
    "z is the input to the sigmoid function.\n",
    "The sigmoid function is a type of logistic function, and it has an S-shaped curve. As the input value z increases, the output value of the sigmoid function approaches 1. As the input value z decreases, the output value of the sigmoid function approaches 0. At an input value of 0, the output value of the sigmoid function is 0.5.\n",
    "\n",
    "In logistic regression, the input value z is the log-odds (logit) of the probability of the response variable taking the value 1 given the predictor variables. The sigmoid function is used to transform the log-odds to a probability value between 0 and 1."
   ]
  },
  {
   "cell_type": "markdown",
   "metadata": {
    "id": "-XZHF-3_qLFQ"
   },
   "source": [
    "# Gradient descent\n",
    "Gradient descent is an optimization algorithm that is commonly used in machine learning to find the optimal parameters for a given model. In logistic regression, gradient descent is used to find the optimal weights that minimize the cost function.\n",
    "\n",
    "# Learning rate\n",
    "\n",
    "Learning rate is a hyperparameter that determines the step size at each iteration while moving toward a minimum of a loss function. The learning rate is an important parameter to set correctly because it can affect how quickly or slowly the model converges to the optimal parameters."
   ]
  },
  {
   "cell_type": "markdown",
   "metadata": {
    "id": "gEbRy11kqddZ"
   },
   "source": [
    "importing the dependencies"
   ]
  },
  {
   "cell_type": "code",
   "execution_count": 1,
   "metadata": {
    "executionInfo": {
     "elapsed": 7,
     "status": "ok",
     "timestamp": 1676864265049,
     "user": {
      "displayName": "clay programmers",
      "userId": "16347745512140021712"
     },
     "user_tz": -330
    },
    "id": "iOfFxNtAmYwr"
   },
   "outputs": [],
   "source": [
    "# importinğ the  lib\n",
    "import numpy as np"
   ]
  },
  {
   "cell_type": "code",
   "execution_count": 2,
   "metadata": {
    "executionInfo": {
     "elapsed": 382,
     "status": "ok",
     "timestamp": 1676864286158,
     "user": {
      "displayName": "clay programmers",
      "userId": "16347745512140021712"
     },
     "user_tz": -330
    },
    "id": "cCessfk5qp8-"
   },
   "outputs": [],
   "source": [
    "class logistic_regression():\n",
    "  #declaring the learnig rate and no of iteration(hyperparameters)\n",
    "  def __init__(self,learning_rate,no_of_iterations):\n",
    "    self.learning_rate = learning_rate\n",
    "    self.no_of_iterations = no_of_iterations\n",
    "  # fit function to train the model with dataset\n",
    "  def fit(self,X,Y): \n",
    "    # number of training example & no_of_iterations\n",
    "\n",
    "    self.m,self.n = X.shape  # number of rows & columns\n",
    "    #rows, columns\n",
    "\n",
    "    # number of weigth and bias\n",
    "    self.w = np.zeros(self.n)\n",
    "    self.b = 0 \n",
    "\n",
    "    self.X=X\n",
    "    self.Y=Y\n",
    "\n",
    "    # implementing Gradient Descent\n",
    "\n",
    "    for  i in range(self.no_of_iterations):\n",
    "      self.update_weigths()\n",
    "\n",
    "  def update_weights(self):\n",
    "    # y_hat formaula (sigmoid function)\n",
    "    y_hat = 1/(1+np.exp(-(self.X.dot(self.w)+self.b)))\n",
    "    #derivaties\n",
    "    dw=(1/self.m)*np.dot(self.X.T,(y_hat - self.Y))\n",
    "    db=(1/self.m)*np.dot(y_hat - self.Y)\n",
    "\n",
    "    #udating the weigth and bias vlaues uing gradient descent\n",
    "    self.w = self.w - self.learning_rate * dw\n",
    "    self.b = self.b - self.learning_rate * db\n",
    "\n",
    "\n",
    "    # sigmoid equation & decision bounties \n",
    "  def predict(self):\n",
    "    y_pred = 1/(1+np.exp(-(self.X.dot(self.w)+self.b)))\n",
    "    y_pred = np.where(y_pred >0.5 ,1, 0)\n",
    "    return y_pred\n",
    "    \n"
   ]
  },
  {
   "cell_type": "code",
   "execution_count": 3,
   "metadata": {
    "executionInfo": {
     "elapsed": 691,
     "status": "ok",
     "timestamp": 1676864289852,
     "user": {
      "displayName": "clay programmers",
      "userId": "16347745512140021712"
     },
     "user_tz": -330
    },
    "id": "RKvhwR1ju_yU"
   },
   "outputs": [],
   "source": [
    "import pandas as pd"
   ]
  },
  {
   "cell_type": "markdown",
   "metadata": {
    "id": "KObfHOAy41MF"
   },
   "source": [
    "Data collection and analysis\n",
    "\n",
    "PIMA diabetes dataset"
   ]
  },
  {
   "cell_type": "code",
   "execution_count": 5,
   "metadata": {
    "colab": {
     "base_uri": "https://localhost:8080/"
    },
    "executionInfo": {
     "elapsed": 14,
     "status": "error",
     "timestamp": 1676864293062,
     "user": {
      "displayName": "clay programmers",
      "userId": "16347745512140021712"
     },
     "user_tz": -330
    },
    "id": "OG1-fEHx40LX",
    "outputId": "1b037a2f-31a7-4bf4-c861-02362f8b57f4"
   },
   "outputs": [],
   "source": [
    "# lording the diabets dataset to pandas dataframe\n",
    "df=pd.read_csv(\"diabetes.csv\")"
   ]
  },
  {
   "cell_type": "code",
   "execution_count": 6,
   "metadata": {
    "colab": {
     "base_uri": "https://localhost:8080/"
    },
    "executionInfo": {
     "elapsed": 808,
     "status": "ok",
     "timestamp": 1676864189187,
     "user": {
      "displayName": "clay programmers",
      "userId": "16347745512140021712"
     },
     "user_tz": -330
    },
    "id": "iqBtp_aq5K7o",
    "outputId": "c9b4e90e-a259-4bf0-cdc0-99bf7605ab4e"
   },
   "outputs": [
    {
     "data": {
      "text/html": [
       "<div>\n",
       "<style scoped>\n",
       "    .dataframe tbody tr th:only-of-type {\n",
       "        vertical-align: middle;\n",
       "    }\n",
       "\n",
       "    .dataframe tbody tr th {\n",
       "        vertical-align: top;\n",
       "    }\n",
       "\n",
       "    .dataframe thead th {\n",
       "        text-align: right;\n",
       "    }\n",
       "</style>\n",
       "<table border=\"1\" class=\"dataframe\">\n",
       "  <thead>\n",
       "    <tr style=\"text-align: right;\">\n",
       "      <th></th>\n",
       "      <th>Pregnancies</th>\n",
       "      <th>Glucose</th>\n",
       "      <th>BloodPressure</th>\n",
       "      <th>SkinThickness</th>\n",
       "      <th>Insulin</th>\n",
       "      <th>BMI</th>\n",
       "      <th>DiabetesPedigreeFunction</th>\n",
       "      <th>Age</th>\n",
       "      <th>Outcome</th>\n",
       "    </tr>\n",
       "  </thead>\n",
       "  <tbody>\n",
       "    <tr>\n",
       "      <th>0</th>\n",
       "      <td>6</td>\n",
       "      <td>148</td>\n",
       "      <td>72</td>\n",
       "      <td>35</td>\n",
       "      <td>0</td>\n",
       "      <td>33.6</td>\n",
       "      <td>0.627</td>\n",
       "      <td>50</td>\n",
       "      <td>1</td>\n",
       "    </tr>\n",
       "    <tr>\n",
       "      <th>1</th>\n",
       "      <td>1</td>\n",
       "      <td>85</td>\n",
       "      <td>66</td>\n",
       "      <td>29</td>\n",
       "      <td>0</td>\n",
       "      <td>26.6</td>\n",
       "      <td>0.351</td>\n",
       "      <td>31</td>\n",
       "      <td>0</td>\n",
       "    </tr>\n",
       "    <tr>\n",
       "      <th>2</th>\n",
       "      <td>8</td>\n",
       "      <td>183</td>\n",
       "      <td>64</td>\n",
       "      <td>0</td>\n",
       "      <td>0</td>\n",
       "      <td>23.3</td>\n",
       "      <td>0.672</td>\n",
       "      <td>32</td>\n",
       "      <td>1</td>\n",
       "    </tr>\n",
       "    <tr>\n",
       "      <th>3</th>\n",
       "      <td>1</td>\n",
       "      <td>89</td>\n",
       "      <td>66</td>\n",
       "      <td>23</td>\n",
       "      <td>94</td>\n",
       "      <td>28.1</td>\n",
       "      <td>0.167</td>\n",
       "      <td>21</td>\n",
       "      <td>0</td>\n",
       "    </tr>\n",
       "    <tr>\n",
       "      <th>4</th>\n",
       "      <td>0</td>\n",
       "      <td>137</td>\n",
       "      <td>40</td>\n",
       "      <td>35</td>\n",
       "      <td>168</td>\n",
       "      <td>43.1</td>\n",
       "      <td>2.288</td>\n",
       "      <td>33</td>\n",
       "      <td>1</td>\n",
       "    </tr>\n",
       "  </tbody>\n",
       "</table>\n",
       "</div>"
      ],
      "text/plain": [
       "   Pregnancies  Glucose  BloodPressure  SkinThickness  Insulin   BMI  \\\n",
       "0            6      148             72             35        0  33.6   \n",
       "1            1       85             66             29        0  26.6   \n",
       "2            8      183             64              0        0  23.3   \n",
       "3            1       89             66             23       94  28.1   \n",
       "4            0      137             40             35      168  43.1   \n",
       "\n",
       "   DiabetesPedigreeFunction  Age  Outcome  \n",
       "0                     0.627   50        1  \n",
       "1                     0.351   31        0  \n",
       "2                     0.672   32        1  \n",
       "3                     0.167   21        0  \n",
       "4                     2.288   33        1  "
      ]
     },
     "execution_count": 6,
     "metadata": {},
     "output_type": "execute_result"
    }
   ],
   "source": [
    "#print top 5 rows\n",
    "df.head()"
   ]
  },
  {
   "cell_type": "code",
   "execution_count": 7,
   "metadata": {
    "colab": {
     "base_uri": "https://localhost:8080/"
    },
    "executionInfo": {
     "elapsed": 894,
     "status": "ok",
     "timestamp": 1676864224937,
     "user": {
      "displayName": "clay programmers",
      "userId": "16347745512140021712"
     },
     "user_tz": -330
    },
    "id": "lQtXZ0Ve5On_",
    "outputId": "e586624a-33bd-4917-bab1-4e382dd966a3"
   },
   "outputs": [
    {
     "data": {
      "text/html": [
       "<div>\n",
       "<style scoped>\n",
       "    .dataframe tbody tr th:only-of-type {\n",
       "        vertical-align: middle;\n",
       "    }\n",
       "\n",
       "    .dataframe tbody tr th {\n",
       "        vertical-align: top;\n",
       "    }\n",
       "\n",
       "    .dataframe thead th {\n",
       "        text-align: right;\n",
       "    }\n",
       "</style>\n",
       "<table border=\"1\" class=\"dataframe\">\n",
       "  <thead>\n",
       "    <tr style=\"text-align: right;\">\n",
       "      <th></th>\n",
       "      <th>Pregnancies</th>\n",
       "      <th>Glucose</th>\n",
       "      <th>BloodPressure</th>\n",
       "      <th>SkinThickness</th>\n",
       "      <th>Insulin</th>\n",
       "      <th>BMI</th>\n",
       "      <th>DiabetesPedigreeFunction</th>\n",
       "      <th>Age</th>\n",
       "      <th>Outcome</th>\n",
       "    </tr>\n",
       "  </thead>\n",
       "  <tbody>\n",
       "    <tr>\n",
       "      <th>763</th>\n",
       "      <td>10</td>\n",
       "      <td>101</td>\n",
       "      <td>76</td>\n",
       "      <td>48</td>\n",
       "      <td>180</td>\n",
       "      <td>32.9</td>\n",
       "      <td>0.171</td>\n",
       "      <td>63</td>\n",
       "      <td>0</td>\n",
       "    </tr>\n",
       "    <tr>\n",
       "      <th>764</th>\n",
       "      <td>2</td>\n",
       "      <td>122</td>\n",
       "      <td>70</td>\n",
       "      <td>27</td>\n",
       "      <td>0</td>\n",
       "      <td>36.8</td>\n",
       "      <td>0.340</td>\n",
       "      <td>27</td>\n",
       "      <td>0</td>\n",
       "    </tr>\n",
       "    <tr>\n",
       "      <th>765</th>\n",
       "      <td>5</td>\n",
       "      <td>121</td>\n",
       "      <td>72</td>\n",
       "      <td>23</td>\n",
       "      <td>112</td>\n",
       "      <td>26.2</td>\n",
       "      <td>0.245</td>\n",
       "      <td>30</td>\n",
       "      <td>0</td>\n",
       "    </tr>\n",
       "    <tr>\n",
       "      <th>766</th>\n",
       "      <td>1</td>\n",
       "      <td>126</td>\n",
       "      <td>60</td>\n",
       "      <td>0</td>\n",
       "      <td>0</td>\n",
       "      <td>30.1</td>\n",
       "      <td>0.349</td>\n",
       "      <td>47</td>\n",
       "      <td>1</td>\n",
       "    </tr>\n",
       "    <tr>\n",
       "      <th>767</th>\n",
       "      <td>1</td>\n",
       "      <td>93</td>\n",
       "      <td>70</td>\n",
       "      <td>31</td>\n",
       "      <td>0</td>\n",
       "      <td>30.4</td>\n",
       "      <td>0.315</td>\n",
       "      <td>23</td>\n",
       "      <td>0</td>\n",
       "    </tr>\n",
       "  </tbody>\n",
       "</table>\n",
       "</div>"
      ],
      "text/plain": [
       "     Pregnancies  Glucose  BloodPressure  SkinThickness  Insulin   BMI  \\\n",
       "763           10      101             76             48      180  32.9   \n",
       "764            2      122             70             27        0  36.8   \n",
       "765            5      121             72             23      112  26.2   \n",
       "766            1      126             60              0        0  30.1   \n",
       "767            1       93             70             31        0  30.4   \n",
       "\n",
       "     DiabetesPedigreeFunction  Age  Outcome  \n",
       "763                     0.171   63        0  \n",
       "764                     0.340   27        0  \n",
       "765                     0.245   30        0  \n",
       "766                     0.349   47        1  \n",
       "767                     0.315   23        0  "
      ]
     },
     "execution_count": 7,
     "metadata": {},
     "output_type": "execute_result"
    }
   ],
   "source": [
    "#printing the bottom 5 rows\n",
    "df.tail()"
   ]
  },
  {
   "cell_type": "code",
   "execution_count": null,
   "metadata": {
    "id": "PBoq_qZV5Tuf"
   },
   "outputs": [],
   "source": []
  },
  {
   "cell_type": "code",
   "execution_count": null,
   "metadata": {},
   "outputs": [],
   "source": []
  }
 ],
 "metadata": {
  "colab": {
   "authorship_tag": "ABX9TyMAz0gzVaSQJjUvjIUmrFFa",
   "provenance": []
  },
  "kernelspec": {
   "display_name": "Python 3 (ipykernel)",
   "language": "python",
   "name": "python3"
  },
  "language_info": {
   "codemirror_mode": {
    "name": "ipython",
    "version": 3
   },
   "file_extension": ".py",
   "mimetype": "text/x-python",
   "name": "python",
   "nbconvert_exporter": "python",
   "pygments_lexer": "ipython3",
   "version": "3.9.12"
  }
 },
 "nbformat": 4,
 "nbformat_minor": 1
}
