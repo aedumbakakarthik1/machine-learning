{
 "cells": [
  {
   "cell_type": "markdown",
   "id": "9e23b76e",
   "metadata": {},
   "source": [
    "# basic data types of  python"
   ]
  },
  {
   "cell_type": "raw",
   "id": "9ad123fe",
   "metadata": {},
   "source": [
    "There are \n",
    "int ->1,4,56,3,7,7\n",
    "float ->2.22,34443.00\n",
    "complex ->11+3j\n",
    "string ->\"name\",\"34323\"\n",
    "boolen -> True or False "
   ]
  },
  {
   "cell_type": "code",
   "execution_count": 1,
   "id": "345ed236",
   "metadata": {},
   "outputs": [
    {
     "name": "stdout",
     "output_type": "stream",
     "text": [
      "<class 'int'>\n"
     ]
    }
   ],
   "source": [
    "# int\n",
    "a=13\n",
    "print(type(a))"
   ]
  },
  {
   "cell_type": "code",
   "execution_count": 2,
   "id": "fe0baf58",
   "metadata": {},
   "outputs": [
    {
     "name": "stdout",
     "output_type": "stream",
     "text": [
      "<class 'float'>\n"
     ]
    }
   ],
   "source": [
    "#float\n",
    "b=7.5\n",
    "print(type(b))"
   ]
  },
  {
   "cell_type": "code",
   "execution_count": 3,
   "id": "44217419",
   "metadata": {},
   "outputs": [
    {
     "name": "stdout",
     "output_type": "stream",
     "text": [
      "<class 'complex'>\n"
     ]
    }
   ],
   "source": [
    "#complex\n",
    "c=11+5j\n",
    "print(type(c))"
   ]
  },
  {
   "cell_type": "code",
   "execution_count": 4,
   "id": "ff2f3dcc",
   "metadata": {},
   "outputs": [
    {
     "name": "stdout",
     "output_type": "stream",
     "text": [
      "<class 'str'>\n"
     ]
    }
   ],
   "source": [
    "# string\n",
    "d=\"karthik\"\n",
    "print(type(d))"
   ]
  },
  {
   "cell_type": "code",
   "execution_count": 6,
   "id": "5b6fbc0d",
   "metadata": {},
   "outputs": [
    {
     "name": "stdout",
     "output_type": "stream",
     "text": [
      "<class 'bool'>\n"
     ]
    }
   ],
   "source": [
    "# bollean\n",
    "e=True\n",
    "\n",
    "print(type(e))"
   ]
  },
  {
   "cell_type": "code",
   "execution_count": 8,
   "id": "d0325640",
   "metadata": {},
   "outputs": [
    {
     "name": "stdout",
     "output_type": "stream",
     "text": [
      "True\n",
      "<class 'bool'>\n"
     ]
    }
   ],
   "source": [
    "f=7>4\n",
    "print(f)\n",
    "print(type(f))"
   ]
  },
  {
   "cell_type": "code",
   "execution_count": 9,
   "id": "b044e621",
   "metadata": {},
   "outputs": [
    {
     "name": "stdout",
     "output_type": "stream",
     "text": [
      "hellohellohellohellohello\n"
     ]
    }
   ],
   "source": [
    "\n",
    "\n",
    "# string \n",
    "print(\"hello \"*5)"
   ]
  },
  {
   "cell_type": "markdown",
   "id": "d15e6137",
   "metadata": {},
   "source": [
    " # slicing for string"
   ]
  },
  {
   "cell_type": "code",
   "execution_count": 11,
   "id": "28409b65",
   "metadata": {},
   "outputs": [
    {
     "name": "stdout",
     "output_type": "stream",
     "text": [
      "tho\n"
     ]
    }
   ],
   "source": [
    "my_string =\"python programming\"\n",
    "print(my_string[2:5]) # values from idex 2 to 5-2 will be sliced"
   ]
  },
  {
   "cell_type": "code",
   "execution_count": 12,
   "id": "0ca59454",
   "metadata": {},
   "outputs": [
    {
     "name": "stdout",
     "output_type": "stream",
     "text": [
      "to r\n"
     ]
    }
   ],
   "source": [
    "#step\n",
    "print(my_string[2:9:2])"
   ]
  },
  {
   "cell_type": "code",
   "execution_count": null,
   "id": "d970db4d",
   "metadata": {},
   "outputs": [],
   "source": []
  }
 ],
 "metadata": {
  "kernelspec": {
   "display_name": "Python 3 (ipykernel)",
   "language": "python",
   "name": "python3"
  },
  "language_info": {
   "codemirror_mode": {
    "name": "ipython",
    "version": 3
   },
   "file_extension": ".py",
   "mimetype": "text/x-python",
   "name": "python",
   "nbconvert_exporter": "python",
   "pygments_lexer": "ipython3",
   "version": "3.9.12"
  }
 },
 "nbformat": 4,
 "nbformat_minor": 5
}
