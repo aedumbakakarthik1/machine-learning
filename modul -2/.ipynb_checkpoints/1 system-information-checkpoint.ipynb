{
 "cells": [
  {
   "cell_type": "code",
   "execution_count": 12,
   "id": "2e9aa080",
   "metadata": {},
   "outputs": [
    {
     "name": "stdout",
     "output_type": "stream",
     "text": [
      "\n",
      "Host Name:                 MSI\n",
      "OS Name:                   Microsoft Windows 11 Home Single Language\n",
      "OS Version:                10.0.22621 N/A Build 22621\n",
      "OS Manufacturer:           Microsoft Corporation\n",
      "OS Configuration:          Standalone Workstation\n",
      "OS Build Type:             Multiprocessor Free\n",
      "Registered Owner:          aedumbakakarthik1@gmail.com\n",
      "Registered Organization:   \n",
      "Product ID:                00327-35938-39936-AAOEM\n",
      "Original Install Date:     18-10-2022, 12:27:16 PM\n",
      "System Boot Time:          06-02-2023, 02:14:50 PM\n",
      "System Manufacturer:       Micro-Star International Co., Ltd.\n",
      "System Model:              GF65 Thin 10UE\n",
      "System Type:               x64-based PC\n",
      "Processor(s):              1 Processor(s) Installed.\n",
      "                           [01]: Intel64 Family 6 Model 165 Stepping 2 GenuineIntel ~2592 Mhz\n",
      "BIOS Version:              American Megatrends Inc. E16W2IMS.105, 14-05-2021\n",
      "Windows Directory:         C:\\WINDOWS\n",
      "System Directory:          C:\\WINDOWS\\system32\n",
      "Boot Device:               \\Device\\HarddiskVolume1\n",
      "System Locale:             en-us;English (United States)\n",
      "Input Locale:              00004009\n",
      "Time Zone:                 (UTC+05:30) Chennai, Kolkata, Mumbai, New Delhi\n",
      "Total Physical Memory:     16,206 MB\n",
      "Available Physical Memory: 8,707 MB\n",
      "Virtual Memory: Max Size:  18,638 MB\n",
      "Virtual Memory: Available: 7,443 MB\n",
      "Virtual Memory: In Use:    11,195 MB\n",
      "Page File Location(s):     C:\\pagefile.sys\n",
      "Domain:                    WORKGROUP\n",
      "Logon Server:              \\\\MSI\n",
      "Hotfix(s):                 4 Hotfix(s) Installed.\n",
      "                           [01]: KB5022404\n",
      "                           [02]: KB5012170\n",
      "                           [03]: KB5022360\n",
      "                           [04]: KB5022610\n",
      "Network Card(s):           5 NIC(s) Installed.\n",
      "                           [01]: Intel(R) Wi-Fi 6 AX201 160MHz\n",
      "                                 Connection Name: Wi-Fi\n",
      "                                 DHCP Enabled:    Yes\n",
      "                                 DHCP Server:     192.168.53.209\n",
      "                                 IP address(es)\n",
      "                                 [01]: 192.168.53.236\n",
      "                                 [02]: fe80::9897:963:cbca:966a\n",
      "                                 [03]: 2409:4070:4d9d:c206:61ef:24e7:57c7:8c93\n",
      "                                 [04]: 2409:4070:4d9d:c206:38e6:685:29a6:a\n",
      "                           [02]: Realtek PCIe GbE Family Controller\n",
      "                                 Connection Name: Ethernet\n",
      "                                 Status:          Media disconnected\n",
      "                           [03]: Bluetooth Device (Personal Area Network)\n",
      "                                 Connection Name: Bluetooth Network Connection\n",
      "                                 Status:          Media disconnected\n",
      "                           [04]: VMware Virtual Ethernet Adapter for VMnet1\n",
      "                                 Connection Name: VMware Network Adapter VMnet1\n",
      "                                 DHCP Enabled:    No\n",
      "                                 IP address(es)\n",
      "                                 [01]: 192.168.186.1\n",
      "                                 [02]: fe80::7013:587b:aed4:c5d9\n",
      "                           [05]: VMware Virtual Ethernet Adapter for VMnet8\n",
      "                                 Connection Name: VMware Network Adapter VMnet8\n",
      "                                 DHCP Enabled:    No\n",
      "                                 IP address(es)\n",
      "                                 [01]: 192.168.184.1\n",
      "                                 [02]: fe80::fbb2:55a0:2de1:70d5\n",
      "Hyper-V Requirements:      VM Monitor Mode Extensions: Yes\n",
      "                           Virtualization Enabled In Firmware: Yes\n",
      "                           Second Level Address Translation: Yes\n",
      "                           Data Execution Prevention Available: Yes\n"
     ]
    }
   ],
   "source": [
    "!systeminfo"
   ]
  },
  {
   "cell_type": "code",
   "execution_count": 8,
   "id": "f514c745",
   "metadata": {},
   "outputs": [
    {
     "name": "stdout",
     "output_type": "stream",
     "text": [
      " Volume in drive C is Windows\n",
      " Volume Serial Number is EC7E-F1E7\n",
      "\n",
      " Directory of C:\\Users\\aedum\\Desktop\\python by Siddhardhan\\module-2\n",
      "\n",
      "06-02-2023  04:38 PM    <DIR>          .\n",
      "06-02-2023  04:27 PM    <DIR>          ..\n",
      "06-02-2023  04:28 PM    <DIR>          .ipynb_checkpoints\n",
      "06-02-2023  04:38 PM             2,298 Untitled.ipynb\n",
      "               1 File(s)          2,298 bytes\n",
      "               3 Dir(s)  601,365,340,160 bytes free\n"
     ]
    }
   ],
   "source": [
    "!dir\n"
   ]
  },
  {
   "cell_type": "code",
   "execution_count": 3,
   "id": "a2c1b948",
   "metadata": {},
   "outputs": [
    {
     "ename": "ModuleNotFoundError",
     "evalue": "No module named 'cpuinfo'",
     "output_type": "error",
     "traceback": [
      "\u001b[1;31m---------------------------------------------------------------------------\u001b[0m",
      "\u001b[1;31mModuleNotFoundError\u001b[0m                       Traceback (most recent call last)",
      "Input \u001b[1;32mIn [3]\u001b[0m, in \u001b[0;36m<cell line: 1>\u001b[1;34m()\u001b[0m\n\u001b[1;32m----> 1\u001b[0m \u001b[38;5;28;01mimport\u001b[39;00m \u001b[38;5;21;01mcpuinfo\u001b[39;00m\n\u001b[0;32m      2\u001b[0m cpuinfo\u001b[38;5;241m.\u001b[39mget_cpu_info()\n",
      "\u001b[1;31mModuleNotFoundError\u001b[0m: No module named 'cpuinfo'"
     ]
    }
   ],
   "source": []
  },
  {
   "cell_type": "code",
   "execution_count": null,
   "id": "3911abfa",
   "metadata": {},
   "outputs": [],
   "source": []
  },
  {
   "cell_type": "code",
   "execution_count": null,
   "id": "3467abc3",
   "metadata": {},
   "outputs": [],
   "source": []
  }
 ],
 "metadata": {
  "kernelspec": {
   "display_name": "Python 3 (ipykernel)",
   "language": "python",
   "name": "python3"
  },
  "language_info": {
   "codemirror_mode": {
    "name": "ipython",
    "version": 3
   },
   "file_extension": ".py",
   "mimetype": "text/x-python",
   "name": "python",
   "nbconvert_exporter": "python",
   "pygments_lexer": "ipython3",
   "version": "3.9.12"
  }
 },
 "nbformat": 4,
 "nbformat_minor": 5
}
