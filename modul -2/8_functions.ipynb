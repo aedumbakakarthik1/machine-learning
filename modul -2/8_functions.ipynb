{
  "nbformat": 4,
  "nbformat_minor": 0,
  "metadata": {
    "colab": {
      "provenance": []
    },
    "kernelspec": {
      "name": "python3",
      "display_name": "Python 3"
    },
    "language_info": {
      "name": "python"
    },
    "gpuClass": "standard"
  },
  "cells": [
    {
      "cell_type": "markdown",
      "source": [
        "\n",
        "# funtion in python\n",
        "* function is the block of code which we reuse it again and again \n",
        "\n",
        "for example \n",
        "\n",
        "factorial number\n",
        "* factorial of a number is the product of all the positive number less then or equal to the given number\n",
        "\n",
        "* factorial of 5 = 5 X 4 X 3 X 2 X 1 =120\n",
        "\n",
        "\n"
      ],
      "metadata": {
        "id": "bcU9Y0HW8879"
      }
    },
    {
      "cell_type": "code",
      "source": [
        "num = int (input(\"enter the number to find the factorial :\"))\n",
        "fact=1\n",
        "if num==0:\n",
        "  print(\"the factorial of 0 is 1\")\n",
        "else:\n",
        "  for i in range(1,num+1):\n",
        "    fact *=i\n",
        "  print(fact)"
      ],
      "metadata": {
        "colab": {
          "base_uri": "https://localhost:8080/"
        },
        "id": "hHHTfYCk88cw",
        "outputId": "cd77e272-fbb6-4c56-954e-278d5e8ed969"
      },
      "execution_count": 1,
      "outputs": [
        {
          "output_type": "stream",
          "name": "stdout",
          "text": [
            "enter the number to find the factorial :10\n",
            "3628800\n"
          ]
        }
      ]
    },
    {
      "cell_type": "markdown",
      "source": [
        "# function of factorial"
      ],
      "metadata": {
        "id": "4NaaLS1H-bqx"
      }
    },
    {
      "cell_type": "code",
      "execution_count": 3,
      "metadata": {
        "colab": {
          "base_uri": "https://localhost:8080/"
        },
        "id": "K0qcFX8a7TOS",
        "outputId": "8aa96894-2c16-44c8-9b23-8556d513e474"
      },
      "outputs": [
        {
          "output_type": "execute_result",
          "data": {
            "text/plain": [
              "120"
            ]
          },
          "metadata": {},
          "execution_count": 3
        }
      ],
      "source": [
        "def factorial_num(num):\n",
        "  num = num\n",
        "  fact=1\n",
        "  if num==0:\n",
        "    print(\"the factorial of 0 is 1\")\n",
        "  else:\n",
        "    for i in range(1,num+1):\n",
        "      fact *=i\n",
        "    return fact\n",
        "\n",
        "\n",
        "\n",
        "factorial_num(5)"
      ]
    },
    {
      "cell_type": "code",
      "source": [
        "factorial_num(100)"
      ],
      "metadata": {
        "colab": {
          "base_uri": "https://localhost:8080/"
        },
        "id": "umhfqPcY-y3B",
        "outputId": "cfb93c91-703c-43c5-c48f-973c4d11fde9"
      },
      "execution_count": 4,
      "outputs": [
        {
          "output_type": "execute_result",
          "data": {
            "text/plain": [
              "93326215443944152681699238856266700490715968264381621468592963895217599993229915608941463976156518286253697920827223758251185210916864000000000000000000000000"
            ]
          },
          "metadata": {},
          "execution_count": 4
        }
      ]
    },
    {
      "cell_type": "code",
      "source": [
        "factorial_num(9)"
      ],
      "metadata": {
        "colab": {
          "base_uri": "https://localhost:8080/"
        },
        "id": "5fqid9Ev_FTD",
        "outputId": "fb0698a0-6bdd-48b5-ce08-50327f296143"
      },
      "execution_count": 5,
      "outputs": [
        {
          "output_type": "execute_result",
          "data": {
            "text/plain": [
              "362880"
            ]
          },
          "metadata": {},
          "execution_count": 5
        }
      ]
    },
    {
      "cell_type": "code",
      "source": [],
      "metadata": {
        "id": "BdEzDlBi_JTN"
      },
      "execution_count": null,
      "outputs": []
    }
  ]
}