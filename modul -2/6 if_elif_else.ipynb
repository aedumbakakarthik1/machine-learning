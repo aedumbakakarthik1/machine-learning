{
 "cells": [
  {
   "cell_type": "code",
   "execution_count": 1,
   "id": "f1944743",
   "metadata": {},
   "outputs": [
    {
     "name": "stdout",
     "output_type": "stream",
     "text": [
      "b is the greatest number \n"
     ]
    }
   ],
   "source": [
    "# simple if else statment\n",
    "\n",
    "a=30\n",
    "b=40\n",
    "if (a>b):\n",
    "    print('a is the greatest number')\n",
    "else :\n",
    "    print(\"b is the greatest number \")"
   ]
  },
  {
   "cell_type": "code",
   "execution_count": 2,
   "id": "ebf841c4",
   "metadata": {},
   "outputs": [
    {
     "name": "stdout",
     "output_type": "stream",
     "text": [
      "c is the greatest number\n"
     ]
    }
   ],
   "source": [
    "# if elif else\n",
    "a=5\n",
    "b=10\n",
    "c=15\n",
    "if(b<a>c):\n",
    "    print('a is the greatest number')\n",
    "elif(a<b>c):\n",
    "    print('b is the greatest number')\n",
    "else:\n",
    "    print('c is the greatest number')"
   ]
  },
  {
   "cell_type": "code",
   "execution_count": 5,
   "id": "c8d9e682",
   "metadata": {},
   "outputs": [
    {
     "name": "stdout",
     "output_type": "stream",
     "text": [
      "a is the greatest number\n"
     ]
    }
   ],
   "source": [
    "# nested if\n",
    "a=20\n",
    "b=5\n",
    "c=3\n",
    "\n",
    "if (a>b):\n",
    "    if (a>c):\n",
    "        print('a is the greatest number')\n",
    "    else:\n",
    "        print('b is the greatest number')\n",
    "else:\n",
    "    if(b>c):\n",
    "        print('b is the greatest number')\n",
    "    else:\n",
    "        print('c is the greatest number')"
   ]
  },
  {
   "cell_type": "code",
   "execution_count": null,
   "id": "63affa61",
   "metadata": {},
   "outputs": [],
   "source": []
  }
 ],
 "metadata": {
  "kernelspec": {
   "display_name": "Python 3 (ipykernel)",
   "language": "python",
   "name": "python3"
  },
  "language_info": {
   "codemirror_mode": {
    "name": "ipython",
    "version": 3
   },
   "file_extension": ".py",
   "mimetype": "text/x-python",
   "name": "python",
   "nbconvert_exporter": "python",
   "pygments_lexer": "ipython3",
   "version": "3.9.12"
  }
 },
 "nbformat": 4,
 "nbformat_minor": 5
}
