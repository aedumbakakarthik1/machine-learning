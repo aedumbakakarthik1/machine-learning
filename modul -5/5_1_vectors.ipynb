{
  "nbformat": 4,
  "nbformat_minor": 0,
  "metadata": {
    "colab": {
      "provenance": []
    },
    "kernelspec": {
      "name": "python3",
      "display_name": "Python 3"
    },
    "language_info": {
      "name": "python"
    },
    "gpuClass": "standard"
  },
  "cells": [
    {
      "cell_type": "code",
      "execution_count": null,
      "metadata": {
        "id": "JQyUsGT4RA3l"
      },
      "outputs": [],
      "source": [
        "import numpy as np\n",
        "import matplotlib.pyplot as plt\n",
        "import seaborn as sns"
      ]
    },
    {
      "cell_type": "code",
      "source": [
        "sns.set()"
      ],
      "metadata": {
        "id": "iuTNbGVTRdQS"
      },
      "execution_count": null,
      "outputs": []
    },
    {
      "cell_type": "markdown",
      "source": [
        "plotting the vector"
      ],
      "metadata": {
        "id": "V5lPjD_fRf8r"
      }
    },
    {
      "cell_type": "code",
      "source": [
        "plt.quiver(0,0,3,2)\n",
        "plt.show()"
      ],
      "metadata": {
        "colab": {
          "base_uri": "https://localhost:8080/",
          "height": 268
        },
        "id": "fZhDRYfsRezy",
        "outputId": "01c65cd2-ce95-4eeb-a928-5dda720e0f47"
      },
      "execution_count": null,
      "outputs": [
        {
          "output_type": "display_data",
          "data": {
            "text/plain": [
              "<Figure size 432x288 with 1 Axes>"
            ],
            "image/png": "[encoded data removed]"
          },
          "metadata": {}
        }
      ]
    },
    {
      "cell_type": "code",
      "source": [
        "plt.quiver(0,0,3,2,scale_units=\"xy\",angles='xy',scale=1)\n",
        "plt.xlim(-8,8)\n",
        "plt.ylim(-8,8)"
      ],
      "metadata": {
        "colab": {
          "base_uri": "https://localhost:8080/",
          "height": 289
        },
        "id": "PK00TszaRocC",
        "outputId": "9a0bcbf4-903c-4a71-be49-8c8ffaca3383"
      },
      "execution_count": null,
      "outputs": [
        {
          "output_type": "execute_result",
          "data": {
            "text/plain": [
              "(-8.0, 8.0)"
            ]
          },
          "metadata": {},
          "execution_count": 12
        },
        {
          "output_type": "display_data",
          "data": {
            "text/plain": [
              "<Figure size 432x288 with 1 Axes>"
            ],
            "image/png": "[encoded data removed]"
          },
          "metadata": {}
        }
      ]
    },
    {
      "cell_type": "code",
      "source": [
        "plt.quiver(0,0,3,2,scale_units=\"xy\",angles='xy',scale=1,color='b')\n",
        "plt.xlim(-8,8)\n",
        "plt.ylim(-8,8)"
      ],
      "metadata": {
        "colab": {
          "base_uri": "https://localhost:8080/",
          "height": 289
        },
        "id": "mOc4hQHCSLhF",
        "outputId": "9be46270-5329-4d35-e460-8787929779db"
      },
      "execution_count": null,
      "outputs": [
        {
          "output_type": "execute_result",
          "data": {
            "text/plain": [
              "(-8.0, 8.0)"
            ]
          },
          "metadata": {},
          "execution_count": 14
        },
        {
          "output_type": "display_data",
          "data": {
            "text/plain": [
              "<Figure size 432x288 with 1 Axes>"
            ],
            "image/png": "[encoded data removed]"
          },
          "metadata": {}
        }
      ]
    },
    {
      "cell_type": "code",
      "source": [
        "plt.quiver(0,0,3,2,scale_units=\"xy\",angles='xy',scale=1,color='b')\n",
        "plt.quiver(0,0,3,-2,scale_units=\"xy\",angles='xy',scale=1,color='y')\n",
        "\n",
        "plt.xlim(-8,8)\n",
        "plt.ylim(-8,8)"
      ],
      "metadata": {
        "colab": {
          "base_uri": "https://localhost:8080/",
          "height": 289
        },
        "id": "EPIV5iV3StJ8",
        "outputId": "fc76c7e3-4d47-4918-92f4-4e9bd76c29dc"
      },
      "execution_count": null,
      "outputs": [
        {
          "output_type": "execute_result",
          "data": {
            "text/plain": [
              "(-8.0, 8.0)"
            ]
          },
          "metadata": {},
          "execution_count": 17
        },
        {
          "output_type": "display_data",
          "data": {
            "text/plain": [
              "<Figure size 432x288 with 1 Axes>"
            ],
            "image/png": "[encoded data removed]"
          },
          "metadata": {}
        }
      ]
    },
    {
      "cell_type": "markdown",
      "source": [
        "addition of 2 vectors"
      ],
      "metadata": {
        "id": "WHYGpJr_S_27"
      }
    },
    {
      "cell_type": "code",
      "source": [
        "vector_1 =np.asarray([0,0,2,3])\n",
        "\n",
        "vector_2  = np.asarray([0,0,3,-2])"
      ],
      "metadata": {
        "id": "-vnLBUmRS5XH"
      },
      "execution_count": null,
      "outputs": []
    },
    {
      "cell_type": "code",
      "source": [
        "sum=np.add(vector_1,vector_2)"
      ],
      "metadata": {
        "id": "6MH3_Zo9TVDT"
      },
      "execution_count": null,
      "outputs": []
    },
    {
      "cell_type": "code",
      "source": [
        "sum"
      ],
      "metadata": {
        "colab": {
          "base_uri": "https://localhost:8080/"
        },
        "id": "yYngMyPRTctX",
        "outputId": "0053c998-cb1f-4104-dd87-9371a2decf36"
      },
      "execution_count": null,
      "outputs": [
        {
          "output_type": "execute_result",
          "data": {
            "text/plain": [
              "array([0, 0, 5, 1])"
            ]
          },
          "metadata": {},
          "execution_count": 23
        }
      ]
    },
    {
      "cell_type": "code",
      "source": [
        "plt.quiver(0,0,2,3,scale_units=\"xy\",angles='xy',scale=1,color='b')\n",
        "plt.quiver(0,0,3,-2,scale_units=\"xy\",angles='xy',scale=1,color='y')\n",
        "plt.quiver(0,0,5,1,scale_units=\"xy\",angles='xy',scale=1,color='r')\n",
        "\n",
        "plt.xlim(-8,8)\n",
        "plt.ylim(-8,8)"
      ],
      "metadata": {
        "colab": {
          "base_uri": "https://localhost:8080/",
          "height": 289
        },
        "id": "Gge468aITuy-",
        "outputId": "dd00c323-319e-4d2a-8812-10596ba23134"
      },
      "execution_count": null,
      "outputs": [
        {
          "output_type": "execute_result",
          "data": {
            "text/plain": [
              "(-8.0, 8.0)"
            ]
          },
          "metadata": {},
          "execution_count": 24
        },
        {
          "output_type": "display_data",
          "data": {
            "text/plain": [
              "<Figure size 432x288 with 1 Axes>"
            ],
            "image/png": "[encoded data removed]"
          },
          "metadata": {}
        }
      ]
    },
    {
      "cell_type": "code",
      "source": [
        "vector_1 =np.asarray([0,0,2,3])\n",
        "\n",
        "vector_2  = np.asarray([0,0,3,-2])\n",
        "\n",
        "subtract=np.subtract(vector_1,vector_2)\n",
        "subtract"
      ],
      "metadata": {
        "colab": {
          "base_uri": "https://localhost:8080/"
        },
        "id": "_BbvqcyJT_Aj",
        "outputId": "29d5ef1b-a4db-4091-eceb-4f874df08b80"
      },
      "execution_count": null,
      "outputs": [
        {
          "output_type": "execute_result",
          "data": {
            "text/plain": [
              "array([ 0,  0, -1,  5])"
            ]
          },
          "metadata": {},
          "execution_count": 26
        }
      ]
    },
    {
      "cell_type": "code",
      "source": [
        "plt.quiver(0,0,2,3,scale_units=\"xy\",angles='xy',scale=1,color='b')\n",
        "plt.quiver(0,0,3,-2,scale_units=\"xy\",angles='xy',scale=1,color='y')\n",
        "plt.quiver(0,0,-1,5,scale_units=\"xy\",angles='xy',scale=1,color='r')\n",
        "\n",
        "plt.xlim(-8,8)\n",
        "plt.ylim(-8,8)"
      ],
      "metadata": {
        "colab": {
          "base_uri": "https://localhost:8080/",
          "height": 289
        },
        "id": "6yOdw6gyUZGt",
        "outputId": "61c895f7-a607-4625-f456-dacbcf754dd8"
      },
      "execution_count": null,
      "outputs": [
        {
          "output_type": "execute_result",
          "data": {
            "text/plain": [
              "(-8.0, 8.0)"
            ]
          },
          "metadata": {},
          "execution_count": 27
        },
        {
          "output_type": "display_data",
          "data": {
            "text/plain": [
              "<Figure size 432x288 with 1 Axes>"
            ],
            "image/png": "[encoded data removed]"
          },
          "metadata": {}
        }
      ]
    },
    {
      "cell_type": "code",
      "source": [
        "vector_1 =np.asarray([0,0,2,3])\n",
        "\n",
        "vector_2  = 2* vector_1\n",
        "vector_2"
      ],
      "metadata": {
        "colab": {
          "base_uri": "https://localhost:8080/"
        },
        "id": "0zXhwq_eUgDP",
        "outputId": "7bd44001-8c28-49ca-94c5-f3c8eff98267"
      },
      "execution_count": null,
      "outputs": [
        {
          "output_type": "execute_result",
          "data": {
            "text/plain": [
              "array([0, 0, 4, 6])"
            ]
          },
          "metadata": {},
          "execution_count": 28
        }
      ]
    },
    {
      "cell_type": "code",
      "source": [
        "plt.quiver(0,0,2,3,scale_units=\"xy\",angles='xy',scale=1,color='b')\n",
        "plt.quiver(0,0,4,6,scale_units=\"xy\",angles='xy',scale=1,color='r')\n",
        "\n",
        "plt.xlim(-8,8)\n",
        "plt.ylim(-8,8)"
      ],
      "metadata": {
        "colab": {
          "base_uri": "https://localhost:8080/",
          "height": 289
        },
        "id": "pQnlxtjWUzr1",
        "outputId": "81f14b13-648d-4a8c-c438-6285a3106073"
      },
      "execution_count": null,
      "outputs": [
        {
          "output_type": "execute_result",
          "data": {
            "text/plain": [
              "(-8.0, 8.0)"
            ]
          },
          "metadata": {},
          "execution_count": 30
        },
        {
          "output_type": "display_data",
          "data": {
            "text/plain": [
              "<Figure size 432x288 with 1 Axes>"
            ],
            "image/png": "[encoded data removed]"
          },
          "metadata": {}
        }
      ]
    },
    {
      "cell_type": "code",
      "source": [
        "vector_1 =np.asarray([0,0,2,3])\n",
        "\n",
        "vector_2  = -0.5* vector_1\n",
        "print(vector_2)\n",
        "\n",
        "plt.quiver(0,0,2,3,scale_units=\"xy\",angles='xy',scale=1,color='b')\n",
        "plt.quiver(0,0,-1,-1.5,scale_units=\"xy\",angles='xy',scale=1,color='r')\n",
        "\n",
        "plt.xlim(-8,8)\n",
        "plt.ylim(-8,8)"
      ],
      "metadata": {
        "colab": {
          "base_uri": "https://localhost:8080/",
          "height": 307
        },
        "id": "Nl8Ssp7XU6N8",
        "outputId": "bdb3c415-7bea-4fdf-d02e-fc27b308d78a"
      },
      "execution_count": null,
      "outputs": [
        {
          "output_type": "stream",
          "name": "stdout",
          "text": [
            "[-0.  -0.  -1.  -1.5]\n"
          ]
        },
        {
          "output_type": "execute_result",
          "data": {
            "text/plain": [
              "(-8.0, 8.0)"
            ]
          },
          "metadata": {},
          "execution_count": 37
        },
        {
          "output_type": "display_data",
          "data": {
            "text/plain": [
              "<Figure size 432x288 with 1 Axes>"
            ],
            "image/png": "[encoded data removed]"
          },
          "metadata": {}
        }
      ]
    },
    {
      "cell_type": "code",
      "source": [],
      "metadata": {
        "id": "luKcHcvdVFtJ"
      },
      "execution_count": null,
      "outputs": []
    },
    {
      "cell_type": "markdown",
      "source": [
        "5.1.5"
      ],
      "metadata": {
        "id": "3ss7Rj-Kbj1T"
      }
    },
    {
      "cell_type": "code",
      "source": [
        "import numpy as np\n"
      ],
      "metadata": {
        "id": "ieiX-Na3bnoO"
      },
      "execution_count": 38,
      "outputs": []
    },
    {
      "cell_type": "markdown",
      "source": [
        "* dot product"
      ],
      "metadata": {
        "id": "LNd_B8_8brJn"
      }
    },
    {
      "cell_type": "code",
      "source": [
        "a= np.array([2,3])\n",
        "b=np.array([4,4])"
      ],
      "metadata": {
        "id": "lSKcjAOhbqgv"
      },
      "execution_count": 39,
      "outputs": []
    },
    {
      "cell_type": "code",
      "source": [
        "a_dot_b = np.dot(a,b)\n",
        "a_dot_b"
      ],
      "metadata": {
        "colab": {
          "base_uri": "https://localhost:8080/"
        },
        "id": "jAoBclO6b3_S",
        "outputId": "7b30d7d1-2675-464c-ff25-aa3fe426e453"
      },
      "execution_count": 41,
      "outputs": [
        {
          "output_type": "execute_result",
          "data": {
            "text/plain": [
              "20"
            ]
          },
          "metadata": {},
          "execution_count": 41
        }
      ]
    },
    {
      "cell_type": "code",
      "source": [
        "c=np.array([9932,3421,34213])\n",
        "d=np.array([343,23434,134134])\n",
        "c_dot_d = np.dot(c,d)\n",
        "c_dot_d"
      ],
      "metadata": {
        "colab": {
          "base_uri": "https://localhost:8080/"
        },
        "id": "tgblsK6Vb9q2",
        "outputId": "9606c049-4dbb-4c37-cf3c-a7d0f7c427ad"
      },
      "execution_count": 44,
      "outputs": [
        {
          "output_type": "execute_result",
          "data": {
            "text/plain": [
              "4672700932"
            ]
          },
          "metadata": {},
          "execution_count": 44
        }
      ]
    },
    {
      "cell_type": "markdown",
      "source": [
        "* cross product odf 2 vectors\n"
      ],
      "metadata": {
        "id": "fs6KekcocbvS"
      }
    },
    {
      "cell_type": "code",
      "source": [
        "a= np.array([2,3])\n",
        "b=np.array([4,4])\n",
        "\n",
        "a_cross_b = np.cross(a,b)\n",
        "a_cross_b"
      ],
      "metadata": {
        "colab": {
          "base_uri": "https://localhost:8080/"
        },
        "id": "XtibHThRcRzg",
        "outputId": "f9b475cd-6650-4f8d-d29c-a52a61b541a4"
      },
      "execution_count": 48,
      "outputs": [
        {
          "output_type": "execute_result",
          "data": {
            "text/plain": [
              "array(-4)"
            ]
          },
          "metadata": {},
          "execution_count": 48
        }
      ]
    },
    {
      "cell_type": "code",
      "source": [
        "a= np.array([2,3,7])\n",
        "b=np.array([4,4,8])\n",
        "\n",
        "a_cross_b = np.cross(a,b)\n",
        "a_cross_b"
      ],
      "metadata": {
        "colab": {
          "base_uri": "https://localhost:8080/"
        },
        "id": "1aNAwSkRcnVV",
        "outputId": "b4a6cdfa-7978-4e2c-dad1-1e9bdfbc22eb"
      },
      "execution_count": 50,
      "outputs": [
        {
          "output_type": "execute_result",
          "data": {
            "text/plain": [
              "array([-4, 12, -4])"
            ]
          },
          "metadata": {},
          "execution_count": 50
        }
      ]
    },
    {
      "cell_type": "markdown",
      "source": [
        "projection of \"A\" vector on \"V\" vector"
      ],
      "metadata": {
        "id": "NN42FBusdOM7"
      }
    },
    {
      "cell_type": "code",
      "source": [
        "a= np.array([2,5])\n",
        "v= np.array([8,-6])\n",
        " \n",
        "# magnitude of \"v\" vector\n",
        "mag_v = np.sqrt(sum(v**2))\n",
        "poj_of_a_on_v = (np.dot(a,v)/mag_v**2)*v\n",
        "poj_of_a_on_v"
      ],
      "metadata": {
        "colab": {
          "base_uri": "https://localhost:8080/",
          "height": 235
        },
        "id": "3_NVbNbKdIqi",
        "outputId": "be6256f2-d6b6-456e-c715-27b8b0c7fc0e"
      },
      "execution_count": 53,
      "outputs": [
        {
          "output_type": "error",
          "ename": "TypeError",
          "evalue": "ignored",
          "traceback": [
            "\u001b[0;31m---------------------------------------------------------------------------\u001b[0m",
            "\u001b[0;31mTypeError\u001b[0m                                 Traceback (most recent call last)",
            "\u001b[0;32m<ipython-input-53-b7ba92cb13ee>\u001b[0m in \u001b[0;36m<module>\u001b[0;34m\u001b[0m\n\u001b[1;32m      3\u001b[0m \u001b[0;34m\u001b[0m\u001b[0m\n\u001b[1;32m      4\u001b[0m \u001b[0;31m# magnitude of \"v\" vector\u001b[0m\u001b[0;34m\u001b[0m\u001b[0;34m\u001b[0m\u001b[0;34m\u001b[0m\u001b[0m\n\u001b[0;32m----> 5\u001b[0;31m \u001b[0mmag_v\u001b[0m \u001b[0;34m=\u001b[0m \u001b[0mnp\u001b[0m\u001b[0;34m.\u001b[0m\u001b[0msqrt\u001b[0m\u001b[0;34m(\u001b[0m\u001b[0msum\u001b[0m\u001b[0;34m(\u001b[0m\u001b[0mv\u001b[0m\u001b[0;34m**\u001b[0m\u001b[0;36m2\u001b[0m\u001b[0;34m)\u001b[0m\u001b[0;34m)\u001b[0m\u001b[0;34m\u001b[0m\u001b[0;34m\u001b[0m\u001b[0m\n\u001b[0m\u001b[1;32m      6\u001b[0m \u001b[0mpoj_of_a_on_v\u001b[0m \u001b[0;34m=\u001b[0m \u001b[0;34m(\u001b[0m\u001b[0mnp\u001b[0m\u001b[0;34m.\u001b[0m\u001b[0mdot\u001b[0m\u001b[0;34m(\u001b[0m\u001b[0ma\u001b[0m\u001b[0;34m,\u001b[0m\u001b[0mv\u001b[0m\u001b[0;34m)\u001b[0m\u001b[0;34m/\u001b[0m\u001b[0mmag_v\u001b[0m\u001b[0;34m**\u001b[0m\u001b[0;36m2\u001b[0m\u001b[0;34m)\u001b[0m\u001b[0;34m*\u001b[0m\u001b[0mv\u001b[0m\u001b[0;34m\u001b[0m\u001b[0;34m\u001b[0m\u001b[0m\n\u001b[1;32m      7\u001b[0m \u001b[0mpoj_of_a_on_v\u001b[0m\u001b[0;34m\u001b[0m\u001b[0;34m\u001b[0m\u001b[0m\n",
            "\u001b[0;31mTypeError\u001b[0m: 'numpy.ndarray' object is not callable"
          ]
        }
      ]
    },
    {
      "cell_type": "code",
      "source": [
        "import numpy as np\n",
        "\n",
        "a = np.array([2, 5])\n",
        "v = np.array([8, -6])\n",
        " \n",
        "# magnitude of \"v\" vector\n",
        "mag_v = np.linalg.norm(v)\n",
        "poj_of_a_on_v = (np.dot(a, v) / mag_v**2) * v\n",
        "poj_of_a_on_v\n"
      ],
      "metadata": {
        "colab": {
          "base_uri": "https://localhost:8080/"
        },
        "id": "jIqrGifwdrIg",
        "outputId": "66b4f737-6b8b-45b2-dc43-1a6a539c57c6"
      },
      "execution_count": 54,
      "outputs": [
        {
          "output_type": "execute_result",
          "data": {
            "text/plain": [
              "array([-1.12,  0.84])"
            ]
          },
          "metadata": {},
          "execution_count": 54
        }
      ]
    }
  ]
}