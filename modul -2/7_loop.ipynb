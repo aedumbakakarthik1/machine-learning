{
  "nbformat": 4,
  "nbformat_minor": 0,
  "metadata": {
    "colab": {
      "provenance": []
    },
    "kernelspec": {
      "name": "python3",
      "display_name": "Python 3"
    },
    "language_info": {
      "name": "python"
    }
  },
  "cells": [
    {
      "cell_type": "code",
      "execution_count": 5,
      "metadata": {
        "colab": {
          "base_uri": "https://localhost:8080/"
        },
        "id": "VQfUWmG-wIg2",
        "outputId": "380b5c58-e640-4023-bf25-4eb1572be53b"
      },
      "outputs": [
        {
          "name": "stdout",
          "output_type": "stream",
          "text": [
            "enter the price of the laptop_1  22\n",
            "enter the price of the laptop_2  33\n",
            "enter the price of the laptop_3  4\n",
            "enter the price of the laptop_4  555\n"
          ]
        }
      ],
      "source": [
        "laptop_1 = int(input(\"enter the price of the laptop_1  \"))\n",
        "laptop_2 = int(input(\"enter the price of the laptop_2  \"))\n",
        "laptop_3 = int(input(\"enter the price of the laptop_3  \"))\n",
        "laptop_4 = int(input(\"enter the price of the laptop_4  \"))"
      ]
    },
    {
      "cell_type": "code",
      "source": [
        "# for loop\n",
        "for i in range(5):\n",
        "  print(int(input(\"enter the price of the laptop\")))\n"
      ],
      "metadata": {
        "colab": {
          "base_uri": "https://localhost:8080/"
        },
        "id": "hD_asABrwNOG",
        "outputId": "b8dc5159-796d-4f93-efe8-958608be062f"
      },
      "execution_count": 7,
      "outputs": [
        {
          "output_type": "stream",
          "name": "stdout",
          "text": [
            "enter the price of the laptop22\n",
            "22\n",
            "enter the price of the laptop55\n",
            "55\n",
            "enter the price of the laptop88\n",
            "88\n",
            "enter the price of the laptop99\n",
            "99\n",
            "enter the price of the laptop99\n",
            "99\n"
          ]
        }
      ]
    },
    {
      "cell_type": "code",
      "source": [
        "number =[10,20,30,40,50]\n",
        "for i in number:\n",
        "  print(i)"
      ],
      "metadata": {
        "colab": {
          "base_uri": "https://localhost:8080/"
        },
        "id": "harMLagd43_J",
        "outputId": "dcc84f7d-faea-4abb-e976-5b985ff241ff"
      },
      "execution_count": 10,
      "outputs": [
        {
          "output_type": "stream",
          "name": "stdout",
          "text": [
            "10\n",
            "20\n",
            "30\n",
            "40\n",
            "50\n"
          ]
        }
      ]
    },
    {
      "cell_type": "code",
      "source": [
        "# or \n",
        "for i in range(len(number)):\n",
        "  print(number[i])\n"
      ],
      "metadata": {
        "colab": {
          "base_uri": "https://localhost:8080/"
        },
        "id": "05hDso_H5CJY",
        "outputId": "486cbdb1-26b2-4f33-d40a-c8ed181fa0f9"
      },
      "execution_count": 11,
      "outputs": [
        {
          "output_type": "stream",
          "name": "stdout",
          "text": [
            "10\n",
            "20\n",
            "30\n",
            "40\n",
            "50\n"
          ]
        }
      ]
    },
    {
      "cell_type": "markdown",
      "source": [
        "# while"
      ],
      "metadata": {
        "id": "Knp3d4d16Nnb"
      }
    },
    {
      "cell_type": "code",
      "source": [
        "i=0\n",
        "while i<10:\n",
        "  print(i)\n",
        "  i+=1"
      ],
      "metadata": {
        "colab": {
          "base_uri": "https://localhost:8080/"
        },
        "id": "B1PK_PH66DeF",
        "outputId": "53704b59-21ea-445d-b3f0-f40d0d57b21e"
      },
      "execution_count": 12,
      "outputs": [
        {
          "output_type": "stream",
          "name": "stdout",
          "text": [
            "0\n",
            "1\n",
            "2\n",
            "3\n",
            "4\n",
            "5\n",
            "6\n",
            "7\n",
            "8\n",
            "9\n"
          ]
        }
      ]
    },
    {
      "cell_type": "code",
      "source": [],
      "metadata": {
        "id": "8RzgZgBX67f_"
      },
      "execution_count": null,
      "outputs": []
    }
  ]
}