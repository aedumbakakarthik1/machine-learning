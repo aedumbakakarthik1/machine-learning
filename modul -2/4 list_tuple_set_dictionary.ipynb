{
 "cells": [
  {
   "cell_type": "raw",
   "id": "6ed56fe6",
   "metadata": {},
   "source": [
    "type of abiect in python\n",
    "1) immutable object\n",
    "2) mutable object"
   ]
  },
  {
   "cell_type": "raw",
   "id": "576849ea",
   "metadata": {},
   "source": [
    "1) immutable object\n",
    "int\n",
    "float\n",
    "string\n",
    "bool\n",
    "tuple"
   ]
  },
  {
   "cell_type": "raw",
   "id": "ef58aa1c",
   "metadata": {},
   "source": [
    "2) mutable object\n",
    "list\n",
    "set\n",
    "dictionary "
   ]
  },
  {
   "cell_type": "markdown",
   "id": "71539072",
   "metadata": {},
   "source": [
    "# list"
   ]
  },
  {
   "cell_type": "code",
   "execution_count": 1,
   "id": "2b3c6dfe",
   "metadata": {},
   "outputs": [
    {
     "name": "stdout",
     "output_type": "stream",
     "text": [
      "[1, 2, 3, 4, 5]\n",
      "<class 'list'>\n"
     ]
    }
   ],
   "source": [
    "# list should be included in the square bracket  []\n",
    "my_list = [1,2,3,4,5]\n",
    "print(my_list)\n",
    "print(type(my_list))"
   ]
  },
  {
   "cell_type": "code",
   "execution_count": 2,
   "id": "c8c12b63",
   "metadata": {},
   "outputs": [
    {
     "name": "stdout",
     "output_type": "stream",
     "text": [
      "[1, 2, 3.33, 'karthik', False]\n"
     ]
    }
   ],
   "source": [
    "# list can allow the multiple datatype\n",
    "my_list =[1,2,3.33,\"karthik\",False]\n",
    "print(my_list)"
   ]
  },
  {
   "cell_type": "code",
   "execution_count": 4,
   "id": "18950de4",
   "metadata": {},
   "outputs": [
    {
     "name": "stdout",
     "output_type": "stream",
     "text": [
      "[1, 2, 3.33, 'karthik', False, 5]\n"
     ]
    }
   ],
   "source": [
    "# list are mutable ->changeable\n",
    "my_list.append(5)\n",
    "print(my_list)"
   ]
  },
  {
   "cell_type": "code",
   "execution_count": 5,
   "id": "2cdb1644",
   "metadata": {},
   "outputs": [
    {
     "name": "stdout",
     "output_type": "stream",
     "text": [
      "3.33\n"
     ]
    }
   ],
   "source": [
    "# printing the element of list using their index\n",
    "print(my_list[2])"
   ]
  },
  {
   "cell_type": "code",
   "execution_count": 6,
   "id": "00cb5214",
   "metadata": {},
   "outputs": [
    {
     "name": "stdout",
     "output_type": "stream",
     "text": [
      "[1, 2, 3, 4, 4, 5, 6, 22, 22, 1]\n"
     ]
    }
   ],
   "source": [
    "# list allows the duplicate values\n",
    "list_1=[1,2,3,4,4,5,6,22,22,1]\n",
    "print(list_1)"
   ]
  },
  {
   "cell_type": "code",
   "execution_count": 7,
   "id": "8f3320b6",
   "metadata": {},
   "outputs": [
    {
     "name": "stdout",
     "output_type": "stream",
     "text": [
      "10\n"
     ]
    }
   ],
   "source": [
    "#to find the no.of element in the list\n",
    "print(len(list_1))"
   ]
  },
  {
   "cell_type": "code",
   "execution_count": 8,
   "id": "e9001e11",
   "metadata": {},
   "outputs": [
    {
     "name": "stdout",
     "output_type": "stream",
     "text": [
      "[]\n"
     ]
    }
   ],
   "source": [
    "# initiating an empty list\n",
    "list_2=[]\n",
    "print(list_2)"
   ]
  },
  {
   "cell_type": "code",
   "execution_count": 9,
   "id": "2cb54f47",
   "metadata": {},
   "outputs": [
    {
     "name": "stdout",
     "output_type": "stream",
     "text": [
      "[2, 3, 4.444, 'english', True, 6]\n",
      "[2, 3, 4.444, True, 6]\n"
     ]
    }
   ],
   "source": [
    "# delete an item in list\n",
    "list_2=[2,3,4.444,'english',True,6]\n",
    "print(list_2)\n",
    "del list_2[3]\n",
    "print(list_2)"
   ]
  },
  {
   "cell_type": "code",
   "execution_count": 10,
   "id": "9e674904",
   "metadata": {},
   "outputs": [
    {
     "name": "stdout",
     "output_type": "stream",
     "text": [
      "[1, 2, 3, 4, 5, 6, 7, 8, 9, 10]\n"
     ]
    }
   ],
   "source": [
    "# joining two list\n",
    "list_3 =[1,2,3,4,5]\n",
    "list_4=[6,7,8,9,10]\n",
    "list_5=list_3 + list_4\n",
    "print(list_5)"
   ]
  },
  {
   "cell_type": "markdown",
   "id": "68b2f122",
   "metadata": {},
   "source": [
    "# tuple"
   ]
  },
  {
   "cell_type": "code",
   "execution_count": 11,
   "id": "57df192e",
   "metadata": {},
   "outputs": [
    {
     "name": "stdout",
     "output_type": "stream",
     "text": [
      "(2, 3, 4, 5)\n",
      "<class 'tuple'>\n"
     ]
    }
   ],
   "source": [
    "tuple_1=(2,3,4,5)\n",
    "print(tuple_1)\n",
    "print(type(tuple_1))"
   ]
  },
  {
   "cell_type": "code",
   "execution_count": 12,
   "id": "64914c8c",
   "metadata": {},
   "outputs": [
    {
     "name": "stdout",
     "output_type": "stream",
     "text": [
      "(1, 2.2, 44, 'mechine learning', False)\n"
     ]
    }
   ],
   "source": [
    "#tuple allows multiple datatype\n",
    "tuple_2=(1,2.2,44,\"mechine learning\",False )\n",
    "print(tuple_2)"
   ]
  },
  {
   "cell_type": "code",
   "execution_count": 13,
   "id": "bb558479",
   "metadata": {},
   "outputs": [
    {
     "name": "stdout",
     "output_type": "stream",
     "text": [
      "[3, 4, 5, 6]\n",
      "(3, 4, 5, 6)\n"
     ]
    }
   ],
   "source": [
    "# converting a list a tuple\n",
    "my_list =[3,4,5,6]\n",
    "print(my_list)\n",
    "my_tuple=tuple(my_list)\n",
    "print(my_tuple)"
   ]
  },
  {
   "cell_type": "code",
   "execution_count": 14,
   "id": "de70fc8d",
   "metadata": {},
   "outputs": [
    {
     "name": "stdout",
     "output_type": "stream",
     "text": [
      "3\n"
     ]
    }
   ],
   "source": [
    "# printing element using the index\n",
    "print(my_tuple[0])"
   ]
  },
  {
   "cell_type": "code",
   "execution_count": 15,
   "id": "d2e5938d",
   "metadata": {},
   "outputs": [
    {
     "ename": "AttributeError",
     "evalue": "'tuple' object has no attribute 'append'",
     "output_type": "error",
     "traceback": [
      "\u001b[1;31m---------------------------------------------------------------------------\u001b[0m",
      "\u001b[1;31mAttributeError\u001b[0m                            Traceback (most recent call last)",
      "Input \u001b[1;32mIn [15]\u001b[0m, in \u001b[0;36m<cell line: 2>\u001b[1;34m()\u001b[0m\n\u001b[0;32m      1\u001b[0m \u001b[38;5;66;03m# tuple are immutable -> unchangeable \u001b[39;00m\n\u001b[1;32m----> 2\u001b[0m \u001b[43mmy_tuple\u001b[49m\u001b[38;5;241;43m.\u001b[39;49m\u001b[43mappend\u001b[49m(\u001b[38;5;241m6\u001b[39m)\n",
      "\u001b[1;31mAttributeError\u001b[0m: 'tuple' object has no attribute 'append'"
     ]
    }
   ],
   "source": [
    "# tuple are immutable -> unchangeable \n",
    "my_tuple.append(6)"
   ]
  },
  {
   "cell_type": "markdown",
   "id": "161845b0",
   "metadata": {},
   "source": [
    "# set"
   ]
  },
  {
   "cell_type": "code",
   "execution_count": 16,
   "id": "c68f77ac",
   "metadata": {},
   "outputs": [],
   "source": [
    "# set -> curly brackets { }\n"
   ]
  },
  {
   "cell_type": "code",
   "execution_count": 17,
   "id": "b035ebbc",
   "metadata": {},
   "outputs": [
    {
     "name": "stdout",
     "output_type": "stream",
     "text": [
      "{1, 2, 3, 4, 5}\n",
      "<class 'set'>\n"
     ]
    }
   ],
   "source": [
    "my_set={1,2,3,4,5}\n",
    "print(my_set)\n",
    "print(type(my_set))"
   ]
  },
  {
   "cell_type": "code",
   "execution_count": 18,
   "id": "a21f61af",
   "metadata": {},
   "outputs": [
    {
     "name": "stdout",
     "output_type": "stream",
     "text": [
      "{1, 2, 3, 4, 5, 6}\n"
     ]
    }
   ],
   "source": [
    "# set doesnot allow the duplicate value \n",
    "set_2 ={1,2,3,4,4,5,6,6}\n",
    "print(set_2)"
   ]
  },
  {
   "cell_type": "code",
   "execution_count": 19,
   "id": "2e76ff3f",
   "metadata": {},
   "outputs": [
    {
     "name": "stdout",
     "output_type": "stream",
     "text": [
      "{4, 5, 6, 7, 8}\n"
     ]
    }
   ],
   "source": [
    "# convert a list to set\n",
    "list_5 = [4,5,6,7,8]\n",
    "x=set(list_5)\n",
    "print(x)"
   ]
  },
  {
   "cell_type": "markdown",
   "id": "ee4a40d8",
   "metadata": {},
   "source": [
    "# dictionary "
   ]
  },
  {
   "cell_type": "code",
   "execution_count": 20,
   "id": "377e5465",
   "metadata": {},
   "outputs": [
    {
     "name": "stdout",
     "output_type": "stream",
     "text": [
      "{'name': 'karthik', 'age': 21, 'country': 'india'}\n"
     ]
    }
   ],
   "source": [
    "# key - values pair\n",
    "my_dict={\"name\":\"karthik\",\n",
    "        \"age\":21,\n",
    "        \"country\":\"india\"}\n",
    "print(my_dict)"
   ]
  },
  {
   "cell_type": "code",
   "execution_count": 21,
   "id": "ca70aa6e",
   "metadata": {},
   "outputs": [
    {
     "name": "stdout",
     "output_type": "stream",
     "text": [
      "karthik\n"
     ]
    }
   ],
   "source": [
    "# calling the element by using key\n",
    "print(my_dict[\"name\"])"
   ]
  },
  {
   "cell_type": "code",
   "execution_count": null,
   "id": "8d056479",
   "metadata": {},
   "outputs": [],
   "source": []
  }
 ],
 "metadata": {
  "kernelspec": {
   "display_name": "Python 3 (ipykernel)",
   "language": "python",
   "name": "python3"
  },
  "language_info": {
   "codemirror_mode": {
    "name": "ipython",
    "version": 3
   },
   "file_extension": ".py",
   "mimetype": "text/x-python",
   "name": "python",
   "nbconvert_exporter": "python",
   "pygments_lexer": "ipython3",
   "version": "3.9.12"
  }
 },
 "nbformat": 4,
 "nbformat_minor": 5
}
