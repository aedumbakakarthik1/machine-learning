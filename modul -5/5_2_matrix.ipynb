{
  "nbformat": 4,
  "nbformat_minor": 0,
  "metadata": {
    "colab": {
      "provenance": []
    },
    "kernelspec": {
      "name": "python3",
      "display_name": "Python 3"
    },
    "language_info": {
      "name": "python"
    },
    "gpuClass": "standard"
  },
  "cells": [
    {
      "cell_type": "code",
      "execution_count": 1,
      "metadata": {
        "id": "dCmQh0SQDEA1"
      },
      "outputs": [],
      "source": [
        "import numpy as np\n"
      ]
    },
    {
      "cell_type": "markdown",
      "source": [
        "Creating a matrix using numpy"
      ],
      "metadata": {
        "id": "1NjwNishDegi"
      }
    },
    {
      "cell_type": "code",
      "source": [
        "matrix_1 = np.array([[1,2,3,4],[5,6,7,8]])\n",
        "matrix_1"
      ],
      "metadata": {
        "colab": {
          "base_uri": "https://localhost:8080/"
        },
        "id": "ZrO18wIHDQMe",
        "outputId": "c103dd16-c355-4cbd-f3ca-83a77e7bd827"
      },
      "execution_count": 4,
      "outputs": [
        {
          "output_type": "execute_result",
          "data": {
            "text/plain": [
              "array([[1, 2, 3, 4],\n",
              "       [5, 6, 7, 8]])"
            ]
          },
          "metadata": {},
          "execution_count": 4
        }
      ]
    },
    {
      "cell_type": "code",
      "source": [
        "matrix_1.shape"
      ],
      "metadata": {
        "colab": {
          "base_uri": "https://localhost:8080/"
        },
        "id": "XIusmJ3fDoEL",
        "outputId": "47c215d3-7b01-40da-c245-e4032dba2bf5"
      },
      "execution_count": 5,
      "outputs": [
        {
          "output_type": "execute_result",
          "data": {
            "text/plain": [
              "(2, 4)"
            ]
          },
          "metadata": {},
          "execution_count": 5
        }
      ]
    },
    {
      "cell_type": "markdown",
      "source": [
        "creating matrices with random values"
      ],
      "metadata": {
        "id": "X6fhI3wVD9ts"
      }
    },
    {
      "cell_type": "code",
      "source": [
        "random_matrix = np.random.rand(3,4)\n",
        "random_matrix"
      ],
      "metadata": {
        "colab": {
          "base_uri": "https://localhost:8080/"
        },
        "id": "o_lEAMm4D4CS",
        "outputId": "e00b4621-ed9f-46c6-ad9a-23b872798dda"
      },
      "execution_count": 8,
      "outputs": [
        {
          "output_type": "execute_result",
          "data": {
            "text/plain": [
              "array([[0.21356797, 0.16297916, 0.77203096, 0.58942408],\n",
              "       [0.77733229, 0.45732383, 0.25617339, 0.13177589],\n",
              "       [0.70253594, 0.93875612, 0.19672995, 0.48943963]])"
            ]
          },
          "metadata": {},
          "execution_count": 8
        }
      ]
    },
    {
      "cell_type": "code",
      "source": [
        "# crating the matrix with random integer\n",
        "random_matrix = np.random.randint(100,size=(3,4))\n",
        "random_matrix"
      ],
      "metadata": {
        "colab": {
          "base_uri": "https://localhost:8080/"
        },
        "id": "C3_FXdPrEJyG",
        "outputId": "8c543fb6-c010-4e92-f606-78975d882365"
      },
      "execution_count": 11,
      "outputs": [
        {
          "output_type": "execute_result",
          "data": {
            "text/plain": [
              "array([[20, 61, 84, 10],\n",
              "       [70, 57, 99, 25],\n",
              "       [ 0, 73,  0, 10]])"
            ]
          },
          "metadata": {},
          "execution_count": 11
        }
      ]
    },
    {
      "cell_type": "markdown",
      "source": [
        "MAtrix with all the values as 1"
      ],
      "metadata": {
        "id": "vJye-AtLE2cL"
      }
    },
    {
      "cell_type": "code",
      "source": [
        "matrix= np.ones((3,4))\n",
        "matrix"
      ],
      "metadata": {
        "colab": {
          "base_uri": "https://localhost:8080/"
        },
        "id": "TPOaLPqxEZ6X",
        "outputId": "2ded7890-6fe1-4e0c-bb29-4b40f795f233"
      },
      "execution_count": 13,
      "outputs": [
        {
          "output_type": "execute_result",
          "data": {
            "text/plain": [
              "array([[1., 1., 1., 1.],\n",
              "       [1., 1., 1., 1.],\n",
              "       [1., 1., 1., 1.]])"
            ]
          },
          "metadata": {},
          "execution_count": 13
        }
      ]
    },
    {
      "cell_type": "code",
      "source": [
        "matrix= np.ones((3,4),dtype=int)\n",
        "matrix"
      ],
      "metadata": {
        "colab": {
          "base_uri": "https://localhost:8080/"
        },
        "id": "C3LrLdVkE_RP",
        "outputId": "f2a68954-e67b-44d6-bf4a-b97278cb12ea"
      },
      "execution_count": 15,
      "outputs": [
        {
          "output_type": "execute_result",
          "data": {
            "text/plain": [
              "array([[1, 1, 1, 1],\n",
              "       [1, 1, 1, 1],\n",
              "       [1, 1, 1, 1]])"
            ]
          },
          "metadata": {},
          "execution_count": 15
        }
      ]
    },
    {
      "cell_type": "markdown",
      "source": [
        "null matrix or zeros matrix"
      ],
      "metadata": {
        "id": "14o_WOWtFQCf"
      }
    },
    {
      "cell_type": "code",
      "source": [
        "null_matrix= np.zeros((3,4),dtype=int)\n",
        "null_matrix"
      ],
      "metadata": {
        "colab": {
          "base_uri": "https://localhost:8080/"
        },
        "id": "BBfI_eDCFKns",
        "outputId": "fc1a9c10-e277-47de-ff42-64d23e3477c3"
      },
      "execution_count": 18,
      "outputs": [
        {
          "output_type": "execute_result",
          "data": {
            "text/plain": [
              "array([[0, 0, 0, 0],\n",
              "       [0, 0, 0, 0],\n",
              "       [0, 0, 0, 0]])"
            ]
          },
          "metadata": {},
          "execution_count": 18
        }
      ]
    },
    {
      "cell_type": "markdown",
      "source": [
        "identity matrix"
      ],
      "metadata": {
        "id": "qnFXsHRTFgdB"
      }
    },
    {
      "cell_type": "code",
      "source": [
        "id_matx= np.eye(5,dtype=int)\n",
        "id_matx"
      ],
      "metadata": {
        "colab": {
          "base_uri": "https://localhost:8080/"
        },
        "id": "u_DKwkLKFZbd",
        "outputId": "2f9b7ca6-50bf-4646-d41d-1860076fc453"
      },
      "execution_count": 20,
      "outputs": [
        {
          "output_type": "execute_result",
          "data": {
            "text/plain": [
              "array([[1, 0, 0, 0, 0],\n",
              "       [0, 1, 0, 0, 0],\n",
              "       [0, 0, 1, 0, 0],\n",
              "       [0, 0, 0, 1, 0],\n",
              "       [0, 0, 0, 0, 1]])"
            ]
          },
          "metadata": {},
          "execution_count": 20
        }
      ]
    },
    {
      "cell_type": "markdown",
      "source": [
        "transpose of matrix"
      ],
      "metadata": {
        "id": "wa-ZP3qIFvQ1"
      }
    },
    {
      "cell_type": "code",
      "source": [
        "# crating the matrix with random integer\n",
        "random_matrix = np.random.randint(100,size=(3,4))\n",
        "random_matrix"
      ],
      "metadata": {
        "colab": {
          "base_uri": "https://localhost:8080/"
        },
        "id": "m8cDSUDPFpPO",
        "outputId": "e725a778-8c22-4966-806d-dc8175f63eb6"
      },
      "execution_count": 21,
      "outputs": [
        {
          "output_type": "execute_result",
          "data": {
            "text/plain": [
              "array([[22,  3, 56, 60],\n",
              "       [47, 43, 69, 62],\n",
              "       [12,  8, 64, 71]])"
            ]
          },
          "metadata": {},
          "execution_count": 21
        }
      ]
    },
    {
      "cell_type": "code",
      "source": [
        "random_matrix.T"
      ],
      "metadata": {
        "colab": {
          "base_uri": "https://localhost:8080/"
        },
        "id": "lEvYpZ15F3yQ",
        "outputId": "6377c01f-cc10-484e-c168-ddfcaa4521a5"
      },
      "execution_count": 22,
      "outputs": [
        {
          "output_type": "execute_result",
          "data": {
            "text/plain": [
              "array([[22, 47, 12],\n",
              "       [ 3, 43,  8],\n",
              "       [56, 69, 64],\n",
              "       [60, 62, 71]])"
            ]
          },
          "metadata": {},
          "execution_count": 22
        }
      ]
    },
    {
      "cell_type": "code",
      "source": [
        "np.transpose(random_matrix)"
      ],
      "metadata": {
        "colab": {
          "base_uri": "https://localhost:8080/"
        },
        "id": "LVK46GHzF662",
        "outputId": "7d8c83f9-f965-4983-f7e4-700fee9834fe"
      },
      "execution_count": 23,
      "outputs": [
        {
          "output_type": "execute_result",
          "data": {
            "text/plain": [
              "array([[22, 47, 12],\n",
              "       [ 3, 43,  8],\n",
              "       [56, 69, 64],\n",
              "       [60, 62, 71]])"
            ]
          },
          "metadata": {},
          "execution_count": 23
        }
      ]
    },
    {
      "cell_type": "code",
      "source": [],
      "metadata": {
        "id": "lKlh9QNoGBL8"
      },
      "execution_count": 26,
      "outputs": []
    },
    {
      "cell_type": "code",
      "source": [],
      "metadata": {
        "id": "rOTr0jdYNMqD"
      },
      "execution_count": 29,
      "outputs": []
    },
    {
      "cell_type": "markdown",
      "source": [
        "maths of matrix"
      ],
      "metadata": {
        "id": "p7qDEgciN84j"
      }
    },
    {
      "cell_type": "code",
      "source": [
        "# matrix addition\n",
        "\n",
        "a=np.array([[2,4],[2,6]])\n",
        "b=np.array([[5,6],[3,4]])\n",
        "\n",
        "np.add(a,b)"
      ],
      "metadata": {
        "colab": {
          "base_uri": "https://localhost:8080/"
        },
        "id": "gS_vqLouNSUU",
        "outputId": "d59e05f0-e7e9-4048-8ee3-c9abbadf88e1"
      },
      "execution_count": 30,
      "outputs": [
        {
          "output_type": "execute_result",
          "data": {
            "text/plain": [
              "array([[ 7, 10],\n",
              "       [ 5, 10]])"
            ]
          },
          "metadata": {},
          "execution_count": 30
        }
      ]
    },
    {
      "cell_type": "code",
      "source": [
        "# crating the matrix with random integer\n",
        "random_matrix_1 = np.random.randint(100,size=(3,4))\n",
        "random_matrix_2 = np.random.randint(100,size=(3,4))\n",
        "print(random_matrix_1)\n",
        "print(random_matrix_2)"
      ],
      "metadata": {
        "colab": {
          "base_uri": "https://localhost:8080/"
        },
        "id": "U1jMhTnXODar",
        "outputId": "67e27135-7f2a-4121-ea25-17f50fb59e99"
      },
      "execution_count": 31,
      "outputs": [
        {
          "output_type": "stream",
          "name": "stdout",
          "text": [
            "[[55 46 40  0]\n",
            " [52 89 65 95]\n",
            " [ 8 19 55 10]]\n",
            "[[45 16 47 75]\n",
            " [70 53 54 21]\n",
            " [73 84 89 30]]\n"
          ]
        }
      ]
    },
    {
      "cell_type": "code",
      "source": [
        "np.add(random_matrix_1,random_matrix_2)"
      ],
      "metadata": {
        "colab": {
          "base_uri": "https://localhost:8080/"
        },
        "id": "v82zrVqFOm-P",
        "outputId": "0d99ec5b-1858-4330-85ac-16c14bf48955"
      },
      "execution_count": 32,
      "outputs": [
        {
          "output_type": "execute_result",
          "data": {
            "text/plain": [
              "array([[100,  62,  87,  75],\n",
              "       [122, 142, 119, 116],\n",
              "       [ 81, 103, 144,  40]])"
            ]
          },
          "metadata": {},
          "execution_count": 32
        }
      ]
    },
    {
      "cell_type": "code",
      "source": [
        "random_matrix_1 = np.random.randint(100,size=(3,3))  # see i change the value of the column\n",
        "random_matrix_2 = np.random.randint(100,size=(3,4))\n",
        "print(random_matrix_1)\n",
        "print(random_matrix_2)"
      ],
      "metadata": {
        "colab": {
          "base_uri": "https://localhost:8080/"
        },
        "id": "LVCkMouCPP8-",
        "outputId": "3820a6fc-d551-448a-f381-f35a32159aaa"
      },
      "execution_count": 33,
      "outputs": [
        {
          "output_type": "stream",
          "name": "stdout",
          "text": [
            "[[73 56 11]\n",
            " [13 28 75]\n",
            " [12 20 33]]\n",
            "[[91 76 43 60]\n",
            " [74 83 33 14]\n",
            " [89 58 55 46]]\n"
          ]
        }
      ]
    },
    {
      "cell_type": "code",
      "source": [
        "np.add(random_matrix_1,random_matrix_2)"
      ],
      "metadata": {
        "colab": {
          "base_uri": "https://localhost:8080/",
          "height": 165
        },
        "id": "EZvx94kkPd34",
        "outputId": "c06bec4d-1d82-42af-b8d5-345344c8b248"
      },
      "execution_count": 34,
      "outputs": [
        {
          "output_type": "error",
          "ename": "ValueError",
          "evalue": "ignored",
          "traceback": [
            "\u001b[0;31m---------------------------------------------------------------------------\u001b[0m",
            "\u001b[0;31mValueError\u001b[0m                                Traceback (most recent call last)",
            "\u001b[0;32m<ipython-input-34-bb2afa3914a6>\u001b[0m in \u001b[0;36m<module>\u001b[0;34m\u001b[0m\n\u001b[0;32m----> 1\u001b[0;31m \u001b[0mnp\u001b[0m\u001b[0;34m.\u001b[0m\u001b[0madd\u001b[0m\u001b[0;34m(\u001b[0m\u001b[0mrandom_matrix_1\u001b[0m\u001b[0;34m,\u001b[0m\u001b[0mrandom_matrix_2\u001b[0m\u001b[0;34m)\u001b[0m\u001b[0;34m\u001b[0m\u001b[0;34m\u001b[0m\u001b[0m\n\u001b[0m",
            "\u001b[0;31mValueError\u001b[0m: operands could not be broadcast together with shapes (3,3) (3,4) "
          ]
        }
      ]
    },
    {
      "cell_type": "markdown",
      "source": [
        "matrix suntraction"
      ],
      "metadata": {
        "id": "4S4VnhmOPhyJ"
      }
    },
    {
      "cell_type": "code",
      "source": [
        "# crating the matrix with random integer\n",
        "random_matrix_1 = np.random.randint(100,size=(3,4))\n",
        "random_matrix_2 = np.random.randint(100,size=(3,4))\n",
        "print(random_matrix_1)\n",
        "print(random_matrix_2)"
      ],
      "metadata": {
        "colab": {
          "base_uri": "https://localhost:8080/"
        },
        "id": "GA7qP5DEPfif",
        "outputId": "21503393-581e-4ce2-df9e-a428e001994c"
      },
      "execution_count": 35,
      "outputs": [
        {
          "output_type": "stream",
          "name": "stdout",
          "text": [
            "[[43 88 61 22]\n",
            " [81  5 96 41]\n",
            " [32 97 61 60]]\n",
            "[[95 77 93  3]\n",
            " [ 6  3 92 75]\n",
            " [22 63 31 82]]\n"
          ]
        }
      ]
    },
    {
      "cell_type": "code",
      "source": [
        "np.subtract(random_matrix_1,random_matrix_2)"
      ],
      "metadata": {
        "colab": {
          "base_uri": "https://localhost:8080/"
        },
        "id": "MiZ1pYLvPnDc",
        "outputId": "a1eb94aa-3a7c-4660-e91e-022198bd8a28"
      },
      "execution_count": 36,
      "outputs": [
        {
          "output_type": "execute_result",
          "data": {
            "text/plain": [
              "array([[-52,  11, -32,  19],\n",
              "       [ 75,   2,   4, -34],\n",
              "       [ 10,  34,  30, -22]])"
            ]
          },
          "metadata": {},
          "execution_count": 36
        }
      ]
    },
    {
      "cell_type": "markdown",
      "source": [
        "mutiplying a matrix with scalar"
      ],
      "metadata": {
        "id": "-FuzUAEfPzbf"
      }
    },
    {
      "cell_type": "code",
      "source": [
        "x=5\n",
        "y=np.array([[1,2,3],[4,5,6]])\n"
      ],
      "metadata": {
        "id": "6x9-05KsPtYi"
      },
      "execution_count": 37,
      "outputs": []
    },
    {
      "cell_type": "code",
      "source": [
        "np.multiply(x,y)"
      ],
      "metadata": {
        "colab": {
          "base_uri": "https://localhost:8080/"
        },
        "id": "V-yWfGbEP_bc",
        "outputId": "5ad68dd6-819b-4358-b2bf-090545bba33d"
      },
      "execution_count": 38,
      "outputs": [
        {
          "output_type": "execute_result",
          "data": {
            "text/plain": [
              "array([[ 5, 10, 15],\n",
              "       [20, 25, 30]])"
            ]
          },
          "metadata": {},
          "execution_count": 38
        }
      ]
    },
    {
      "cell_type": "markdown",
      "source": [
        "multiply the 2 matrix"
      ],
      "metadata": {
        "id": "3LMbWiB9QKQd"
      }
    },
    {
      "cell_type": "code",
      "source": [
        "# crating the matrix with random integer\n",
        "random_matrix_1 = np.random.randint(100,size=(3,4))\n",
        "random_matrix_2 = np.random.randint(100,size=(3,4))\n",
        "print(random_matrix_1)\n",
        "print(random_matrix_2)"
      ],
      "metadata": {
        "colab": {
          "base_uri": "https://localhost:8080/"
        },
        "id": "Hh-UXSnvQGFP",
        "outputId": "ec157b66-358a-4dc6-c572-f45bbd043cba"
      },
      "execution_count": 39,
      "outputs": [
        {
          "output_type": "stream",
          "name": "stdout",
          "text": [
            "[[28 70 34 62]\n",
            " [96 83 93 75]\n",
            " [94  1  2 71]]\n",
            "[[45 82 24 96]\n",
            " [25 53 47  6]\n",
            " [41 20 21 79]]\n"
          ]
        }
      ]
    },
    {
      "cell_type": "code",
      "source": [
        "np.multiply(random_matrix_1,random_matrix_2)"
      ],
      "metadata": {
        "colab": {
          "base_uri": "https://localhost:8080/"
        },
        "id": "xzua_y2KQQ7B",
        "outputId": "ba008440-d109-4fe4-f740-4a2956d8b656"
      },
      "execution_count": 40,
      "outputs": [
        {
          "output_type": "execute_result",
          "data": {
            "text/plain": [
              "array([[1260, 5740,  816, 5952],\n",
              "       [2400, 4399, 4371,  450],\n",
              "       [3854,   20,   42, 5609]])"
            ]
          },
          "metadata": {},
          "execution_count": 40
        }
      ]
    },
    {
      "cell_type": "code",
      "source": [
        " # crating the matrix with random integer\n",
        "random_matrix_1 = np.random.randint(100,size=(3,5))  # see i change the value\n",
        "random_matrix_2 = np.random.randint(100,size=(3,4))\n",
        "print(random_matrix_1)\n",
        "print(random_matrix_2)"
      ],
      "metadata": {
        "colab": {
          "base_uri": "https://localhost:8080/"
        },
        "id": "K3p6Z12NQVyg",
        "outputId": "855d97b7-0b08-401e-fe4d-9ef2fdde7f47"
      },
      "execution_count": 44,
      "outputs": [
        {
          "output_type": "stream",
          "name": "stdout",
          "text": [
            "[[34 45 82 64 53]\n",
            " [70 54 76 65 80]\n",
            " [91 29 96 98 70]]\n",
            "[[76  2 16 92]\n",
            " [83 66 24  6]\n",
            " [37 74 82 20]]\n"
          ]
        }
      ]
    },
    {
      "cell_type": "code",
      "source": [
        "np.multiply(random_matrix_1,random_matrix_2)"
      ],
      "metadata": {
        "colab": {
          "base_uri": "https://localhost:8080/",
          "height": 165
        },
        "id": "APN2BTcJQgi7",
        "outputId": "a361f636-24b3-48e9-e178-1a41199d907f"
      },
      "execution_count": 45,
      "outputs": [
        {
          "output_type": "error",
          "ename": "ValueError",
          "evalue": "ignored",
          "traceback": [
            "\u001b[0;31m---------------------------------------------------------------------------\u001b[0m",
            "\u001b[0;31mValueError\u001b[0m                                Traceback (most recent call last)",
            "\u001b[0;32m<ipython-input-45-72a48f1434ea>\u001b[0m in \u001b[0;36m<module>\u001b[0;34m\u001b[0m\n\u001b[0;32m----> 1\u001b[0;31m \u001b[0mnp\u001b[0m\u001b[0;34m.\u001b[0m\u001b[0mmultiply\u001b[0m\u001b[0;34m(\u001b[0m\u001b[0mrandom_matrix_1\u001b[0m\u001b[0;34m,\u001b[0m\u001b[0mrandom_matrix_2\u001b[0m\u001b[0;34m)\u001b[0m\u001b[0;34m\u001b[0m\u001b[0;34m\u001b[0m\u001b[0m\n\u001b[0m",
            "\u001b[0;31mValueError\u001b[0m: operands could not be broadcast together with shapes (3,5) (3,4) "
          ]
        }
      ]
    },
    {
      "cell_type": "code",
      "source": [],
      "metadata": {
        "id": "DupxUV2TQh_M"
      },
      "execution_count": null,
      "outputs": []
    }
  ]
}