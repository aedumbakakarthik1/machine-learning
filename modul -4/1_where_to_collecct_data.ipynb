{
  "nbformat": 4,
  "nbformat_minor": 0,
  "metadata": {
    "colab": {
      "provenance": []
    },
    "kernelspec": {
      "name": "python3",
      "display_name": "Python 3"
    },
    "language_info": {
      "name": "python"
    },
    "gpuClass": "standard"
  },
  "cells": [
    {
      "cell_type": "markdown",
      "source": [
        "1) importance of data in machine learning\n",
        "\n",
        "2)where to collect the data\n",
        "\n",
        "3) demonstration of data collection"
      ],
      "metadata": {
        "id": "NaAs_v22BHdx"
      }
    },
    {
      "cell_type": "markdown",
      "source": [
        "# where to collect the data ?\n",
        "1) kaggle\n",
        "\n",
        "2) uci machine learning repository \n",
        "\n",
        "3)google Dataset search"
      ],
      "metadata": {
        "id": "3n4we9DQCcNX"
      }
    },
    {
      "cell_type": "code",
      "execution_count": null,
      "metadata": {
        "id": "-X7DUURuA7WY"
      },
      "outputs": [],
      "source": []
    }
  ]
}