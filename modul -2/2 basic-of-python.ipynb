{
 "cells": [
  {
   "cell_type": "markdown",
   "id": "34762bfc",
   "metadata": {},
   "source": [
    "# print function"
   ]
  },
  {
   "cell_type": "code",
   "execution_count": 1,
   "id": "9979aeee",
   "metadata": {},
   "outputs": [
    {
     "name": "stdout",
     "output_type": "stream",
     "text": [
      "learning meachine learning\n"
     ]
    }
   ],
   "source": [
    "# the print functio which can use to print something / information to the user \n",
    "print(\"learning meachine learning\")\n"
   ]
  },
  {
   "cell_type": "markdown",
   "id": "d15946a1",
   "metadata": {},
   "source": [
    "# concatnate"
   ]
  },
  {
   "cell_type": "code",
   "execution_count": 3,
   "id": "f09d2041",
   "metadata": {},
   "outputs": [
    {
     "name": "stdout",
     "output_type": "stream",
     "text": [
      "learning meachine learning projects\n"
     ]
    }
   ],
   "source": [
    "# concatenate is nothing but the join of string \n",
    "print(\"learning meachine learning\" + \" projects\")"
   ]
  },
  {
   "cell_type": "markdown",
   "id": "f5ebaa5f",
   "metadata": {},
   "source": [
    "# basic data type\n",
    "int -> 1,2,3,4,12313,433\n",
    "\n",
    "float ->13.222,23424.2222\n",
    "\n",
    "str ->\"name\",\"a\",\"44321234\""
   ]
  },
  {
   "cell_type": "markdown",
   "id": "d7b2c884",
   "metadata": {},
   "source": [
    "# type function"
   ]
  },
  {
   "cell_type": "code",
   "execution_count": 4,
   "id": "62155898",
   "metadata": {},
   "outputs": [
    {
     "data": {
      "text/plain": [
       "int"
      ]
     },
     "execution_count": 4,
     "metadata": {},
     "output_type": "execute_result"
    }
   ],
   "source": [
    "# type function is nothing but the to get the data type of the following one \n",
    "type(9)"
   ]
  },
  {
   "cell_type": "code",
   "execution_count": 5,
   "id": "d7512def",
   "metadata": {},
   "outputs": [
    {
     "data": {
      "text/plain": [
       "str"
      ]
     },
     "execution_count": 5,
     "metadata": {},
     "output_type": "execute_result"
    }
   ],
   "source": [
    "type(\"karthik\")"
   ]
  },
  {
   "cell_type": "code",
   "execution_count": 6,
   "id": "a6349a05",
   "metadata": {},
   "outputs": [
    {
     "data": {
      "text/plain": [
       "float"
      ]
     },
     "execution_count": 6,
     "metadata": {},
     "output_type": "execute_result"
    }
   ],
   "source": [
    "type(23.3)"
   ]
  },
  {
   "cell_type": "markdown",
   "id": "13f50011",
   "metadata": {},
   "source": [
    "# constants & variable "
   ]
  },
  {
   "cell_type": "code",
   "execution_count": 8,
   "id": "097fa805",
   "metadata": {},
   "outputs": [],
   "source": [
    "# constant is that which can not change the it value "
   ]
  },
  {
   "cell_type": "code",
   "execution_count": 10,
   "id": "ca09ab63",
   "metadata": {},
   "outputs": [],
   "source": [
    "# variable is that can change the it's value (or) it is also use to store the some information "
   ]
  },
  {
   "cell_type": "code",
   "execution_count": 11,
   "id": "b04ca5ee",
   "metadata": {},
   "outputs": [
    {
     "data": {
      "text/plain": [
       "'iron man'"
      ]
     },
     "execution_count": 11,
     "metadata": {},
     "output_type": "execute_result"
    }
   ],
   "source": [
    "super_hero = \"iron man\"\n",
    "super_hero"
   ]
  },
  {
   "cell_type": "code",
   "execution_count": 12,
   "id": "19945e79",
   "metadata": {},
   "outputs": [],
   "source": [
    "hero1,hero2,hero3 = \"iron man\",\"captain america\", \"batman\""
   ]
  },
  {
   "cell_type": "code",
   "execution_count": 15,
   "id": "ae5f5666",
   "metadata": {},
   "outputs": [
    {
     "name": "stdout",
     "output_type": "stream",
     "text": [
      "iron man\n",
      "captain america\n",
      "batman\n"
     ]
    }
   ],
   "source": [
    "print(hero1)\n",
    "print(hero2)\n",
    "print(hero3)"
   ]
  },
  {
   "cell_type": "code",
   "execution_count": 16,
   "id": "a97611ee",
   "metadata": {},
   "outputs": [],
   "source": [
    "x=y=z=99"
   ]
  },
  {
   "cell_type": "code",
   "execution_count": 17,
   "id": "608edc54",
   "metadata": {},
   "outputs": [
    {
     "name": "stdout",
     "output_type": "stream",
     "text": [
      "99\n",
      "99\n",
      "99\n"
     ]
    }
   ],
   "source": [
    "print(x)\n",
    "print(y)\n",
    "print(z)"
   ]
  },
  {
   "cell_type": "markdown",
   "id": "a0277067",
   "metadata": {},
   "source": [
    "# intput function"
   ]
  },
  {
   "cell_type": "code",
   "execution_count": 18,
   "id": "763955ce",
   "metadata": {},
   "outputs": [
    {
     "name": "stdout",
     "output_type": "stream",
     "text": [
      "the 1st num: 22\n",
      "the 2nd num: 33\n",
      "2233\n"
     ]
    }
   ],
   "source": [
    "# intout is a function which can take the information from the user \n",
    "number_1=input(\"the 1st num: \")\n",
    "number_2=input(\"the 2nd num: \")\n",
    "print(number_1 +number_2)"
   ]
  },
  {
   "cell_type": "code",
   "execution_count": 20,
   "id": "24ef137d",
   "metadata": {},
   "outputs": [],
   "source": [
    "#what was the wrong in it . because if you use the intput function be default it will take only in str format  to overcome it we need to use int function   "
   ]
  },
  {
   "cell_type": "code",
   "execution_count": 21,
   "id": "05eb63f0",
   "metadata": {},
   "outputs": [
    {
     "name": "stdout",
     "output_type": "stream",
     "text": [
      "the 1st num: 33\n",
      "the 2nd num: 22\n",
      "55\n"
     ]
    }
   ],
   "source": [
    "number_1 = int(input(\"the 1st num: \"))\n",
    "number_2 = int(input(\"the 2nd num: \"))\n",
    "print(number_1+number_2)"
   ]
  },
  {
   "cell_type": "markdown",
   "id": "268b271f",
   "metadata": {},
   "source": [
    "# chaning the data type"
   ]
  },
  {
   "cell_type": "code",
   "execution_count": 24,
   "id": "9146a4fe",
   "metadata": {},
   "outputs": [
    {
     "name": "stdout",
     "output_type": "stream",
     "text": [
      "<class 'int'>\n",
      "<class 'float'>\n"
     ]
    }
   ],
   "source": [
    "num= 3\n",
    "print(type(num))\n",
    "print(type(float(num)))"
   ]
  },
  {
   "cell_type": "code",
   "execution_count": null,
   "id": "c2fb6391",
   "metadata": {},
   "outputs": [],
   "source": []
  }
 ],
 "metadata": {
  "kernelspec": {
   "display_name": "Python 3 (ipykernel)",
   "language": "python",
   "name": "python3"
  },
  "language_info": {
   "codemirror_mode": {
    "name": "ipython",
    "version": 3
   },
   "file_extension": ".py",
   "mimetype": "text/x-python",
   "name": "python",
   "nbconvert_exporter": "python",
   "pygments_lexer": "ipython3",
   "version": "3.9.12"
  }
 },
 "nbformat": 4,
 "nbformat_minor": 5
}
