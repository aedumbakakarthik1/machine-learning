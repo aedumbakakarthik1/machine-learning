{
  "nbformat": 4,
  "nbformat_minor": 0,
  "metadata": {
    "colab": {
      "provenance": []
    },
    "kernelspec": {
      "name": "python3",
      "display_name": "Python 3"
    },
    "language_info": {
      "name": "python"
    },
    "gpuClass": "standard"
  },
  "cells": [
    {
      "cell_type": "code",
      "execution_count": null,
      "metadata": {
        "id": "eYSSpwTLtsOH"
      },
      "outputs": [],
      "source": []
    },
    {
      "cell_type": "markdown",
      "source": [
        "# Linear Regression\n",
        "\n",
        "Linear regression is a statistical approach to modeling the relationship between a dependent variable and one or more independent variables. It assumes that the relationship between the variables can be modeled using a linear function. The equation for a linear regression model with a single independent variable is:\n",
        "\n",
        "$$y = \\beta_0 + \\beta_1 x + \\epsilon$$\n",
        "\n",
        "Where:\n",
        "\n",
        "* y is the dependent variable\n",
        "* x is the independent variable\n",
        "* $\\beta_0$ is the intercept\n",
        "* $\\beta_1$ is the slope coefficient\n",
        "* $\\epsilon$ is the error term or residual\n",
        "\n",
        "\n",
        "# Linear Regression with One Independent Variable\n",
        "Linear regression is a statistical method for modeling the relationship between a dependent variable and one or more independent variables. When there is only one independent variable, the relationship can be modeled using a simple linear regression equation:\n",
        "\n",
        "$$y = mx + c$$\n",
        "\n",
        "In this equation:\n",
        "\n",
        "* y is the dependent variable\n",
        "* x is the independent variable\n",
        "* m is the slope of the line, representing the change in y per unit change in x\n",
        "* c is the intercept of the line, representing the y-value when x is 0.\n",
        "\n",
        "\n",
        "The goal of linear regression is to estimate the values of the slope and intercept parameters that best fit the data. This is typically done by minimizing the sum of squared errors between the predicted values of y and the actual values of y in the data. The optimization algorithm used to minimize this objective function is often gradient descent, as mentioned in my previous answer.\n",
        "\n",
        "\n",
        "It's worth noting that the notation used for the slope and intercept parameters may vary depending on the field or context in which the regression is being performed. Some fields use β0 and β1 to represent the intercept and slope parameters, respectively, while others use m and c. The important thing is to understand the meaning of the parameters and their role in the regression model.\n",
        "\n",
        "\n",
        "---------------------------------------------------------------------\n",
        "\n",
        "\n",
        "$$y = wx + b$$\n",
        "\n",
        "* where $y$ is the dependent variable,\n",
        "* $x$ is the independent variable, \n",
        "* $w$ is the slope parameter (also known as the weight or coefficient), and \n",
        "* $b$ is the intercept parameter (also known as the bias).\n",
        "\n",
        "The goal of linear regression is to find the values of $w$ and $b$ that best fit the data. This is typically done by minimizing the mean squared error (MSE) between the predicted values of $y$ and the actual values of $y$ in the training data set. The MSE is defined as:\n",
        "\n",
        "$$MSE = \\frac{1}{n} \\sum_{i=1}^{n} (y_i - \\hat{y}_i)^2$$\n",
        "\n",
        "where $n$ is the number of data points, $y_i$ is the actual value of the dependent variable for the $i$th data point, and $\\hat{y}_i$ is the predicted value of the dependent variable for the $i$th data point, which is calculated as:\n",
        "\n",
        "$$\\hat{y}_i = wx_i + b$$\n",
        "\n",
        "To minimize the MSE, we can use gradient descent to update the values of $w$ and $b$ iteratively. The update rule for $w$ is:\n",
        "\n",
        "$$w = w - \\alpha \\frac{1}{n} \\sum_{i=1}^{n} (wx_i + b - y_i) x_i$$\n",
        "\n",
        "and the update rule for $b$ is:\n",
        "\n",
        "$$b = b - \\alpha \\frac{1}{n} \\sum_{i=1}^{n} (wx_i + b - y_i)$$\n",
        "\n",
        "where $\\alpha$ is the learning rate, which controls the step size of the updates. By iteratively updating $w$ and $b$ using these update rules, we can eventually find the values that minimize the MSE and provide a good fit to the data."
      ],
      "metadata": {
        "id": "KyUF36d7t8rC"
      }
    },
    {
      "cell_type": "markdown",
      "source": [
        "# Gradient Descent\n",
        "Gradient descent is an optimization algorithm that is commonly used to find the minimum of a function. In the context of linear regression, the goal of gradient descent is to find the values of $\\beta_0$ and $\\beta_1$ that minimize the sum of squared errors. The algorithm works by iteratively adjusting the values of $\\beta_0$ and $\\beta_1$ in the direction of the negative gradient of the sum of squared errors.\n",
        "\n",
        "The update rules for gradient descent are:\n",
        "\n",
        "$$\\beta_0^{(t+1)} = \\beta_0^{(t)} - \\alpha \\frac{\\partial}{\\partial \\beta_0} SSE(\\beta_0^{(t)}, \\beta_1^{(t)})$$\n",
        "\n",
        "$$\\beta_1^{(t+1)} = \\beta_1^{(t)} - \\alpha \\frac{\\partial}{\\partial \\beta_1} SSE(\\beta_0^{(t)}, \\beta_1^{(t)})$$\n",
        "\n",
        "Where:\n",
        "\n",
        "* $t$ is the current iteration\n",
        "* $\\alpha$ is the learning rate\n",
        "* $SSE$ is the sum of squared errors\n",
        "\n",
        "\n",
        "-----------------------------------------------------------------\n",
        "\n",
        "\n",
        "\n",
        "\n",
        "# Gradient Descent\n",
        "Gradient descent is a first-order optimization algorithm that is commonly used to find the optimal values of the parameters in a linear regression model. The goal of gradient descent is to minimize the sum of squared errors (SSE) between the predicted values of y and the actual values of y in the data. In simple linear regression with one independent variable, the SSE can be written as:\n",
        "\n",
        "$$SSE = \\sum_{i=1}^{n}(y_i - mx_i - c)^2$$\n",
        "\n",
        "where:\n",
        "\n",
        "* $n$ is the number of observations in the data\n",
        "* $y_i$ is the actual value of the dependent variable for the i-th observation\n",
        "* $x_i$ is the actual value of the independent variable for the i-th observation\n",
        "* $m$ is the slope of the line, representing the change in y per unit change in x\n",
        "* $c$ is the intercept of the line, representing the y-value when x is 0.\n",
        "* Gradient descent works by iteratively updating the values of the parameters in the direction of the negative gradient of the SSE. The update rules for the slope and intercept parameters are:\n",
        "\n",
        "$$m = m - \\alpha \\frac{\\partial}{\\partial m} SSE$$\n",
        "\n",
        "$$c = c - \\alpha \\frac{\\partial}{\\partial c} SSE$$\n",
        "\n",
        "where $\\alpha$ is the learning rate, which determines the step size of the update.\n",
        "\n",
        "\n",
        "-----------------------------------------------------------------\n",
        "for w\n",
        "\n",
        "$$w = w - \\alpha \\frac{\\partial}{\\partial w} J(w)$$\n",
        "\n",
        "where $w$ is the slope parameter, $\\alpha$ is the learning rate, and $J(w)$ is the loss function, which in the case of linear regression with one independent variable is the mean squared error (MSE):\n",
        "\n",
        "$$J(w) = \\frac{1}{2n} \\sum_{i=1}^{n}(y_i - wx_i)^2$$\n",
        "\n",
        "Taking the partial derivative of the loss function with respect to the slope parameter, we get:\n",
        "\n",
        "$$\\frac{\\partial}{\\partial w} J(w) = \\frac{1}{n} \\sum_{i=1}^{n}(y_i - wx_i)(-x_i) = -\\frac{1}{n} \\sum_{i=1}^{n} x_i (y_i - wx_i)$$\n",
        "\n",
        "Substituting this into the update rule, we get:\n",
        "\n",
        "$$w = w - \\alpha \\left(-\\frac{1}{n} \\sum_{i=1}^{n} x_i (y_i - wx_i)\\right) = w + \\frac{\\alpha}{n} \\sum_{i=1}^{n} x_i (y_i - wx_i)$$\n",
        "\n",
        "This is the update rule for the slope parameter in gradient descent for linear regression with one independent variable. The update rule for the intercept parameter is similar, but with the partial derivative of the loss function with respect to the intercept parameter instead.\n",
        "\n",
        "\n",
        "for b\n",
        "\n",
        "\n",
        "$$b = b - \\alpha \\frac{\\partial}{\\partial b} J(w,b)$$\n",
        "\n",
        "where $b$ is the intercept parameter, $\\alpha$ is the learning rate, and $J(w,b)$ is the loss function. In the case of linear regression with one independent variable, the loss function is the mean squared error (MSE):\n",
        "\n",
        "$$J(w,b) = \\frac{1}{2n} \\sum_{i=1}^{n}(y_i - wx_i - b)^2$$\n",
        "\n",
        "Taking the partial derivative of the loss function with respect to the intercept parameter, we get:\n",
        "\n",
        "$$\\frac{\\partial}{\\partial b} J(w,b) = \\frac{1}{n} \\sum_{i=1}^{n}(y_i - wx_i - b)(-1) = -\\frac{1}{n} \\sum_{i=1}^{n}(y_i - wx_i)$$\n",
        "\n",
        "Substituting this into the update rule, we get:\n",
        "\n",
        "$$b = b - \\alpha \\left(-\\frac{1}{n} \\sum_{i=1}^{n}(y_i - wx_i)\\right) = b + \\frac{\\alpha}{n} \\sum_{i=1}^{n}(y_i - wx_i)$$\n",
        "\n",
        "This is the update rule for the intercept parameter in gradient descent for linear regression with one independent variable. The update rule for the slope parameter is as mentioned before, with the partial derivative of the loss function with respect to the slope parameter."
      ],
      "metadata": {
        "id": "Ep9cvpqIvTdh"
      }
    },
    {
      "cell_type": "markdown",
      "source": [
        "# Learning Rate\n",
        "The learning rate is a hyperparameter that controls the step size in gradient descent. A high learning rate can cause the algorithm to overshoot the minimum, while a low learning rate can cause the algorithm to take a long time to converge. The optimal learning rate depends on the specific problem and data.\n",
        "\n",
        "In general, a good approach is to start with a small learning rate, such as 0.01 or 0.001, and gradually increase it until the algorithm converges to the minimum of the SSE. It's important to monitor the convergence of the algorithm during training to ensure that the learning rate is appropriate.\n",
        "\n",
        "In summary, gradient descent is an optimization algorithm used to find the optimal values of the parameters in a linear regression model. The learning rate is a hyperparameter that controls the step size in gradient descent, and it's important to choose an appropriate value to ensure convergence to the minimum of the SSE.\n",
        "\n",
        "the partial derivative of the mean squared error (MSE) loss function with respect to the weight parameter $w$ in linear regression with one independent variable. This partial derivative is used in gradient descent to update the weight parameter.\n",
        "\n",
        "The full update rule for the weight parameter in gradient descent for linear regression with one independent variable is:\n",
        "\n",
        "$$w = w - \\alpha \\frac{\\partial}{\\partial w} J(w, b)$$\n",
        "\n",
        "where $\\alpha$ is the learning rate, and $J(w, b)$ is the loss function. In the case of linear regression with one independent variable, the loss function is the mean squared error (MSE):\n",
        "\n",
        "$$J(w,b) = \\frac{1}{2n} \\sum_{i=1}^{n}(y_i - wx_i - b)^2$$\n",
        "\n",
        "Taking the partial derivative of the loss function with respect to the weight parameter $w$, we get:\n",
        "\n",
        "$$\\frac{\\partial}{\\partial w} J(w,b) = \\frac{1}{n} \\sum_{i=1}^{n}(y_i - wx_i - b)(-x_i)$$\n",
        "\n",
        "Simplifying this expression, we get:\n",
        "\n",
        "$$\\frac{\\partial}{\\partial w} J(w,b) = -\\frac{1}{n} \\sum_{i=1}^{n}x_i(y_i - wx_i - b)$$\n",
        "\n",
        "Substituting this expression into the update rule for the weight parameter, we get:\n",
        "\n",
        "$$w = w - \\alpha \\left(-\\frac{1}{n} \\sum_{i=1}^{n}x_i(y_i - wx_i - b)\\right) = w + \\frac{\\alpha}{n} \\sum_{i=1}^{n}x_i(y_i - wx_i - b)$$\n",
        "\n",
        "This is the full update rule for the weight parameter in gradient descent for linear regression with one independent variable. The expression you provided is the partial derivative of the loss function with respect to the weight parameter, which is used in this update rule.\n",
        "\n",
        "\n",
        "\n",
        "\n",
        "\n",
        "the partial derivative of the mean squared error (MSE) loss function with respect to the bias parameter $b$ in linear regression with one independent variable. This partial derivative is used in gradient descent to update the bias parameter.\n",
        "\n",
        "The full update rule for the bias parameter in gradient descent for linear regression with one independent variable is:\n",
        "\n",
        "$$b = b - \\alpha \\frac{\\partial}{\\partial b} J(w, b)$$\n",
        "\n",
        "where $\\alpha$ is the learning rate, and $J(w, b)$ is the loss function. In the case of linear regression with one independent variable, the loss function is the mean squared error (MSE):\n",
        "\n",
        "$$J(w,b) = \\frac{1}{2n} \\sum_{i=1}^{n}(y_i - wx_i - b)^2$$\n",
        "\n",
        "Taking the partial derivative of the loss function with respect to the bias parameter $b$, we get:\n",
        "\n",
        "$$\\frac{\\partial}{\\partial b} J(w,b) = \\frac{1}{n} \\sum_{i=1}^{n}(y_i - wx_i - b)(-1)$$\n",
        "\n",
        "Simplifying this expression, we get:\n",
        "\n",
        "$$\\frac{\\partial}{\\partial b} J(w,b) = -\\frac{1}{n} \\sum_{i=1}^{n}(y_i - wx_i - b)$$\n",
        "\n",
        "Substituting this expression into the update rule for the bias parameter, we get:\n",
        "\n",
        "$$b = b - \\alpha \\left(-\\frac{1}{n} \\sum_{i=1}^{n}(y_i - wx_i - b)\\right) = b + \\frac{\\alpha}{n} \\sum_{i=1}^{n}(y_i - wx_i - b)$$\n",
        "\n",
        "This is the full update rule for the bias parameter in gradient descent for linear regression with one independent variable. The expression you provided is the partial derivative of the loss function with respect to the bias parameter, which is used in this update rule."
      ],
      "metadata": {
        "id": "WeKw3LqlyMHi"
      }
    },
    {
      "cell_type": "code",
      "source": [
        "# importing the libs\n",
        "\n",
        "import numpy as np"
      ],
      "metadata": {
        "id": "LYUgrFTAvOG_"
      },
      "execution_count": 1,
      "outputs": []
    },
    {
      "cell_type": "markdown",
      "source": [
        "**linear regression**"
      ],
      "metadata": {
        "id": "rUHEWULD1a3F"
      }
    },
    {
      "cell_type": "code",
      "source": [
        "class linear_regression :\n",
        "\n",
        "# initiating the parmeters (learning rate & no.of iterations)\n",
        "  def __init__(self,learning_rate,no_of_iterations):\n",
        "\n",
        "    self.learning_rate = learning_rate\n",
        "    self.no_of_iterations = no_of_iterations\n",
        "  def fit(self,X,Y):\n",
        "    # number of training example & no_of_iterations\n",
        "\n",
        "    self.m,self.n = X.shape  # number of rows & columns\n",
        "\n",
        "    # number of weigth and bias\n",
        "    self.w = np.zeros(self.n)\n",
        "    self.b = 0 \n",
        "\n",
        "    self.X=X\n",
        "    self.Y=Y\n",
        "\n",
        "    # implementing Gradient Descent\n",
        "\n",
        "    for  i in range(self.no_of_iterations):\n",
        "      self.update_weigths()\n",
        "  \n",
        "  def update_weigths(self):\n",
        "    Y_prediction = self.predict(self.X)\n",
        "\n",
        "\n",
        "    #calculate the gradient\n",
        "\n",
        "    dw= -(2* (self.X.T).dot(self.Y - Y_prediction)) /self.m\n",
        "\n",
        "    db = -2* np.sum(self.Y - Y_prediction)/self.m\n",
        "\n",
        "\n",
        "    #updating the weigths\n",
        "    self.w = self.w - self.learning_rate * dw\n",
        "    self.b = self.b - self.learning_rate * db\n",
        "\n",
        "  def predict(self,X ):\n",
        "    return X.dot(self.w) + self.b\n"
      ],
      "metadata": {
        "id": "CanZL3ciz0Mz"
      },
      "execution_count": 21,
      "outputs": []
    },
    {
      "cell_type": "markdown",
      "source": [
        "Using linear regression model for pediction"
      ],
      "metadata": {
        "id": "MuV6aXVLGyg-"
      }
    },
    {
      "cell_type": "code",
      "source": [
        "# importing the depeantencies\n",
        "\n",
        "import pandas as pd\n",
        "from sklearn.model_selection import train_test_split\n",
        "import matplotlib.pyplot as plt"
      ],
      "metadata": {
        "id": "bPvjpdlb2Nex"
      },
      "execution_count": 3,
      "outputs": []
    },
    {
      "cell_type": "markdown",
      "source": [
        "# data pre-processing"
      ],
      "metadata": {
        "id": "KN8xYiK_36MB"
      }
    },
    {
      "cell_type": "code",
      "source": [
        "# lording the data from csv file a pandas dataframe\n",
        "\n",
        "df=pd.read_csv(\"/content/Salary_Data.csv\")"
      ],
      "metadata": {
        "id": "miZHI-GzAJfP"
      },
      "execution_count": 4,
      "outputs": []
    },
    {
      "cell_type": "code",
      "source": [
        "#printing the first 5 dataset\n",
        "df.head()"
      ],
      "metadata": {
        "colab": {
          "base_uri": "https://localhost:8080/",
          "height": 206
        },
        "id": "M2y0BoihIpMW",
        "outputId": "0fe75e79-5dac-47e1-a594-a4895982891a"
      },
      "execution_count": 6,
      "outputs": [
        {
          "output_type": "execute_result",
          "data": {
            "text/plain": [
              "   YearsExperience   Salary\n",
              "0              1.1  39343.0\n",
              "1              1.3  46205.0\n",
              "2              1.5  37731.0\n",
              "3              2.0  43525.0\n",
              "4              2.2  39891.0"
            ],
            "text/html": [
              "\n",
              "  <div id=\"df-3dc0e0e9-46a8-4256-bdfe-ebbe01b541a5\">\n",
              "    <div class=\"colab-df-container\">\n",
              "      <div>\n",
              "<style scoped>\n",
              "    .dataframe tbody tr th:only-of-type {\n",
              "        vertical-align: middle;\n",
              "    }\n",
              "\n",
              "    .dataframe tbody tr th {\n",
              "        vertical-align: top;\n",
              "    }\n",
              "\n",
              "    .dataframe thead th {\n",
              "        text-align: right;\n",
              "    }\n",
              "</style>\n",
              "<table border=\"1\" class=\"dataframe\">\n",
              "  <thead>\n",
              "    <tr style=\"text-align: right;\">\n",
              "      <th></th>\n",
              "      <th>YearsExperience</th>\n",
              "      <th>Salary</th>\n",
              "    </tr>\n",
              "  </thead>\n",
              "  <tbody>\n",
              "    <tr>\n",
              "      <th>0</th>\n",
              "      <td>1.1</td>\n",
              "      <td>39343.0</td>\n",
              "    </tr>\n",
              "    <tr>\n",
              "      <th>1</th>\n",
              "      <td>1.3</td>\n",
              "      <td>46205.0</td>\n",
              "    </tr>\n",
              "    <tr>\n",
              "      <th>2</th>\n",
              "      <td>1.5</td>\n",
              "      <td>37731.0</td>\n",
              "    </tr>\n",
              "    <tr>\n",
              "      <th>3</th>\n",
              "      <td>2.0</td>\n",
              "      <td>43525.0</td>\n",
              "    </tr>\n",
              "    <tr>\n",
              "      <th>4</th>\n",
              "      <td>2.2</td>\n",
              "      <td>39891.0</td>\n",
              "    </tr>\n",
              "  </tbody>\n",
              "</table>\n",
              "</div>\n",
              "      <button class=\"colab-df-convert\" onclick=\"convertToInteractive('df-3dc0e0e9-46a8-4256-bdfe-ebbe01b541a5')\"\n",
              "              title=\"Convert this dataframe to an interactive table.\"\n",
              "              style=\"display:none;\">\n",
              "        \n",
              "  <svg xmlns=\"http://www.w3.org/2000/svg\" height=\"24px\"viewBox=\"0 0 24 24\"\n",
              "       width=\"24px\">\n",
              "    <path d=\"M0 0h24v24H0V0z\" fill=\"none\"/>\n",
              "    <path d=\"M18.56 5.44l.94 2.06.94-2.06 2.06-.94-2.06-.94-.94-2.06-.94 2.06-2.06.94zm-11 1L8.5 8.5l.94-2.06 2.06-.94-2.06-.94L8.5 2.5l-.94 2.06-2.06.94zm10 10l.94 2.06.94-2.06 2.06-.94-2.06-.94-.94-2.06-.94 2.06-2.06.94z\"/><path d=\"M17.41 7.96l-1.37-1.37c-.4-.4-.92-.59-1.43-.59-.52 0-1.04.2-1.43.59L10.3 9.45l-7.72 7.72c-.78.78-.78 2.05 0 2.83L4 21.41c.39.39.9.59 1.41.59.51 0 1.02-.2 1.41-.59l7.78-7.78 2.81-2.81c.8-.78.8-2.07 0-2.86zM5.41 20L4 18.59l7.72-7.72 1.47 1.35L5.41 20z\"/>\n",
              "  </svg>\n",
              "      </button>\n",
              "      \n",
              "  <style>\n",
              "    .colab-df-container {\n",
              "      display:flex;\n",
              "      flex-wrap:wrap;\n",
              "      gap: 12px;\n",
              "    }\n",
              "\n",
              "    .colab-df-convert {\n",
              "      background-color: #E8F0FE;\n",
              "      border: none;\n",
              "      border-radius: 50%;\n",
              "      cursor: pointer;\n",
              "      display: none;\n",
              "      fill: #1967D2;\n",
              "      height: 32px;\n",
              "      padding: 0 0 0 0;\n",
              "      width: 32px;\n",
              "    }\n",
              "\n",
              "    .colab-df-convert:hover {\n",
              "      background-color: #E2EBFA;\n",
              "      box-shadow: 0px 1px 2px rgba(60, 64, 67, 0.3), 0px 1px 3px 1px rgba(60, 64, 67, 0.15);\n",
              "      fill: #174EA6;\n",
              "    }\n",
              "\n",
              "    [theme=dark] .colab-df-convert {\n",
              "      background-color: #3B4455;\n",
              "      fill: #D2E3FC;\n",
              "    }\n",
              "\n",
              "    [theme=dark] .colab-df-convert:hover {\n",
              "      background-color: #434B5C;\n",
              "      box-shadow: 0px 1px 3px 1px rgba(0, 0, 0, 0.15);\n",
              "      filter: drop-shadow(0px 1px 2px rgba(0, 0, 0, 0.3));\n",
              "      fill: #FFFFFF;\n",
              "    }\n",
              "  </style>\n",
              "\n",
              "      <script>\n",
              "        const buttonEl =\n",
              "          document.querySelector('#df-3dc0e0e9-46a8-4256-bdfe-ebbe01b541a5 button.colab-df-convert');\n",
              "        buttonEl.style.display =\n",
              "          google.colab.kernel.accessAllowed ? 'block' : 'none';\n",
              "\n",
              "        async function convertToInteractive(key) {\n",
              "          const element = document.querySelector('#df-3dc0e0e9-46a8-4256-bdfe-ebbe01b541a5');\n",
              "          const dataTable =\n",
              "            await google.colab.kernel.invokeFunction('convertToInteractive',\n",
              "                                                     [key], {});\n",
              "          if (!dataTable) return;\n",
              "\n",
              "          const docLinkHtml = 'Like what you see? Visit the ' +\n",
              "            '<a target=\"_blank\" href=https://colab.research.google.com/notebooks/data_table.ipynb>data table notebook</a>'\n",
              "            + ' to learn more about interactive tables.';\n",
              "          element.innerHTML = '';\n",
              "          dataTable['output_type'] = 'display_data';\n",
              "          await google.colab.output.renderOutput(dataTable, element);\n",
              "          const docLink = document.createElement('div');\n",
              "          docLink.innerHTML = docLinkHtml;\n",
              "          element.appendChild(docLink);\n",
              "        }\n",
              "      </script>\n",
              "    </div>\n",
              "  </div>\n",
              "  "
            ]
          },
          "metadata": {},
          "execution_count": 6
        }
      ]
    },
    {
      "cell_type": "code",
      "source": [
        "#printing last 5 data sets\n",
        "df.tail()"
      ],
      "metadata": {
        "colab": {
          "base_uri": "https://localhost:8080/",
          "height": 206
        },
        "id": "dYN91G4L4PBE",
        "outputId": "087f45e8-4ba3-4b47-ab0a-a59c777a0f6a"
      },
      "execution_count": 7,
      "outputs": [
        {
          "output_type": "execute_result",
          "data": {
            "text/plain": [
              "    YearsExperience    Salary\n",
              "25              9.0  105582.0\n",
              "26              9.5  116969.0\n",
              "27              9.6  112635.0\n",
              "28             10.3  122391.0\n",
              "29             10.5  121872.0"
            ],
            "text/html": [
              "\n",
              "  <div id=\"df-6e6051ce-e5e1-4343-b202-5feebe58d874\">\n",
              "    <div class=\"colab-df-container\">\n",
              "      <div>\n",
              "<style scoped>\n",
              "    .dataframe tbody tr th:only-of-type {\n",
              "        vertical-align: middle;\n",
              "    }\n",
              "\n",
              "    .dataframe tbody tr th {\n",
              "        vertical-align: top;\n",
              "    }\n",
              "\n",
              "    .dataframe thead th {\n",
              "        text-align: right;\n",
              "    }\n",
              "</style>\n",
              "<table border=\"1\" class=\"dataframe\">\n",
              "  <thead>\n",
              "    <tr style=\"text-align: right;\">\n",
              "      <th></th>\n",
              "      <th>YearsExperience</th>\n",
              "      <th>Salary</th>\n",
              "    </tr>\n",
              "  </thead>\n",
              "  <tbody>\n",
              "    <tr>\n",
              "      <th>25</th>\n",
              "      <td>9.0</td>\n",
              "      <td>105582.0</td>\n",
              "    </tr>\n",
              "    <tr>\n",
              "      <th>26</th>\n",
              "      <td>9.5</td>\n",
              "      <td>116969.0</td>\n",
              "    </tr>\n",
              "    <tr>\n",
              "      <th>27</th>\n",
              "      <td>9.6</td>\n",
              "      <td>112635.0</td>\n",
              "    </tr>\n",
              "    <tr>\n",
              "      <th>28</th>\n",
              "      <td>10.3</td>\n",
              "      <td>122391.0</td>\n",
              "    </tr>\n",
              "    <tr>\n",
              "      <th>29</th>\n",
              "      <td>10.5</td>\n",
              "      <td>121872.0</td>\n",
              "    </tr>\n",
              "  </tbody>\n",
              "</table>\n",
              "</div>\n",
              "      <button class=\"colab-df-convert\" onclick=\"convertToInteractive('df-6e6051ce-e5e1-4343-b202-5feebe58d874')\"\n",
              "              title=\"Convert this dataframe to an interactive table.\"\n",
              "              style=\"display:none;\">\n",
              "        \n",
              "  <svg xmlns=\"http://www.w3.org/2000/svg\" height=\"24px\"viewBox=\"0 0 24 24\"\n",
              "       width=\"24px\">\n",
              "    <path d=\"M0 0h24v24H0V0z\" fill=\"none\"/>\n",
              "    <path d=\"M18.56 5.44l.94 2.06.94-2.06 2.06-.94-2.06-.94-.94-2.06-.94 2.06-2.06.94zm-11 1L8.5 8.5l.94-2.06 2.06-.94-2.06-.94L8.5 2.5l-.94 2.06-2.06.94zm10 10l.94 2.06.94-2.06 2.06-.94-2.06-.94-.94-2.06-.94 2.06-2.06.94z\"/><path d=\"M17.41 7.96l-1.37-1.37c-.4-.4-.92-.59-1.43-.59-.52 0-1.04.2-1.43.59L10.3 9.45l-7.72 7.72c-.78.78-.78 2.05 0 2.83L4 21.41c.39.39.9.59 1.41.59.51 0 1.02-.2 1.41-.59l7.78-7.78 2.81-2.81c.8-.78.8-2.07 0-2.86zM5.41 20L4 18.59l7.72-7.72 1.47 1.35L5.41 20z\"/>\n",
              "  </svg>\n",
              "      </button>\n",
              "      \n",
              "  <style>\n",
              "    .colab-df-container {\n",
              "      display:flex;\n",
              "      flex-wrap:wrap;\n",
              "      gap: 12px;\n",
              "    }\n",
              "\n",
              "    .colab-df-convert {\n",
              "      background-color: #E8F0FE;\n",
              "      border: none;\n",
              "      border-radius: 50%;\n",
              "      cursor: pointer;\n",
              "      display: none;\n",
              "      fill: #1967D2;\n",
              "      height: 32px;\n",
              "      padding: 0 0 0 0;\n",
              "      width: 32px;\n",
              "    }\n",
              "\n",
              "    .colab-df-convert:hover {\n",
              "      background-color: #E2EBFA;\n",
              "      box-shadow: 0px 1px 2px rgba(60, 64, 67, 0.3), 0px 1px 3px 1px rgba(60, 64, 67, 0.15);\n",
              "      fill: #174EA6;\n",
              "    }\n",
              "\n",
              "    [theme=dark] .colab-df-convert {\n",
              "      background-color: #3B4455;\n",
              "      fill: #D2E3FC;\n",
              "    }\n",
              "\n",
              "    [theme=dark] .colab-df-convert:hover {\n",
              "      background-color: #434B5C;\n",
              "      box-shadow: 0px 1px 3px 1px rgba(0, 0, 0, 0.15);\n",
              "      filter: drop-shadow(0px 1px 2px rgba(0, 0, 0, 0.3));\n",
              "      fill: #FFFFFF;\n",
              "    }\n",
              "  </style>\n",
              "\n",
              "      <script>\n",
              "        const buttonEl =\n",
              "          document.querySelector('#df-6e6051ce-e5e1-4343-b202-5feebe58d874 button.colab-df-convert');\n",
              "        buttonEl.style.display =\n",
              "          google.colab.kernel.accessAllowed ? 'block' : 'none';\n",
              "\n",
              "        async function convertToInteractive(key) {\n",
              "          const element = document.querySelector('#df-6e6051ce-e5e1-4343-b202-5feebe58d874');\n",
              "          const dataTable =\n",
              "            await google.colab.kernel.invokeFunction('convertToInteractive',\n",
              "                                                     [key], {});\n",
              "          if (!dataTable) return;\n",
              "\n",
              "          const docLinkHtml = 'Like what you see? Visit the ' +\n",
              "            '<a target=\"_blank\" href=https://colab.research.google.com/notebooks/data_table.ipynb>data table notebook</a>'\n",
              "            + ' to learn more about interactive tables.';\n",
              "          element.innerHTML = '';\n",
              "          dataTable['output_type'] = 'display_data';\n",
              "          await google.colab.output.renderOutput(dataTable, element);\n",
              "          const docLink = document.createElement('div');\n",
              "          docLink.innerHTML = docLinkHtml;\n",
              "          element.appendChild(docLink);\n",
              "        }\n",
              "      </script>\n",
              "    </div>\n",
              "  </div>\n",
              "  "
            ]
          },
          "metadata": {},
          "execution_count": 7
        }
      ]
    },
    {
      "cell_type": "code",
      "source": [
        "#print the number of rows and columes in dataframe\n",
        "\n",
        "df.shape"
      ],
      "metadata": {
        "colab": {
          "base_uri": "https://localhost:8080/"
        },
        "id": "GvX5q0so4d8Z",
        "outputId": "3c5491ca-a26b-4a69-f15c-724817efedb4"
      },
      "execution_count": 8,
      "outputs": [
        {
          "output_type": "execute_result",
          "data": {
            "text/plain": [
              "(30, 2)"
            ]
          },
          "metadata": {},
          "execution_count": 8
        }
      ]
    },
    {
      "cell_type": "code",
      "source": [
        "# checking any missing values\n",
        "df.isnull().sum()"
      ],
      "metadata": {
        "colab": {
          "base_uri": "https://localhost:8080/"
        },
        "id": "jF5LtdWf4vaa",
        "outputId": "1536a41c-476a-4d16-fdf2-7c2786016514"
      },
      "execution_count": 9,
      "outputs": [
        {
          "output_type": "execute_result",
          "data": {
            "text/plain": [
              "YearsExperience    0\n",
              "Salary             0\n",
              "dtype: int64"
            ]
          },
          "metadata": {},
          "execution_count": 9
        }
      ]
    },
    {
      "cell_type": "code",
      "source": [
        "\n",
        "\"\"\"\n",
        "or \n",
        "X=df[\"YearsExperience\"]\n",
        "Y=df[\"Salary\"]\n",
        "\n",
        "\"\"\"\n",
        "\n",
        "X= df.iloc[:,:-1].values\n",
        "\n",
        "Y= df.iloc[:,1].values\n"
      ],
      "metadata": {
        "id": "soxz128347cy"
      },
      "execution_count": 34,
      "outputs": []
    },
    {
      "cell_type": "code",
      "source": [
        "X"
      ],
      "metadata": {
        "colab": {
          "base_uri": "https://localhost:8080/"
        },
        "id": "7zot17Hp5RmS",
        "outputId": "54db5a40-19a8-4400-fef3-cf706a2e9e4d"
      },
      "execution_count": 35,
      "outputs": [
        {
          "output_type": "execute_result",
          "data": {
            "text/plain": [
              "array([[ 1.1],\n",
              "       [ 1.3],\n",
              "       [ 1.5],\n",
              "       [ 2. ],\n",
              "       [ 2.2],\n",
              "       [ 2.9],\n",
              "       [ 3. ],\n",
              "       [ 3.2],\n",
              "       [ 3.2],\n",
              "       [ 3.7],\n",
              "       [ 3.9],\n",
              "       [ 4. ],\n",
              "       [ 4. ],\n",
              "       [ 4.1],\n",
              "       [ 4.5],\n",
              "       [ 4.9],\n",
              "       [ 5.1],\n",
              "       [ 5.3],\n",
              "       [ 5.9],\n",
              "       [ 6. ],\n",
              "       [ 6.8],\n",
              "       [ 7.1],\n",
              "       [ 7.9],\n",
              "       [ 8.2],\n",
              "       [ 8.7],\n",
              "       [ 9. ],\n",
              "       [ 9.5],\n",
              "       [ 9.6],\n",
              "       [10.3],\n",
              "       [10.5]])"
            ]
          },
          "metadata": {},
          "execution_count": 35
        }
      ]
    },
    {
      "cell_type": "code",
      "source": [
        "Y"
      ],
      "metadata": {
        "colab": {
          "base_uri": "https://localhost:8080/"
        },
        "id": "4XC_M57G50Yl",
        "outputId": "59fe21de-c2dd-4c67-d33c-4c8ce85ae71a"
      },
      "execution_count": 36,
      "outputs": [
        {
          "output_type": "execute_result",
          "data": {
            "text/plain": [
              "array([ 39343.,  46205.,  37731.,  43525.,  39891.,  56642.,  60150.,\n",
              "        54445.,  64445.,  57189.,  63218.,  55794.,  56957.,  57081.,\n",
              "        61111.,  67938.,  66029.,  83088.,  81363.,  93940.,  91738.,\n",
              "        98273., 101302., 113812., 109431., 105582., 116969., 112635.,\n",
              "       122391., 121872.])"
            ]
          },
          "metadata": {},
          "execution_count": 36
        }
      ]
    },
    {
      "cell_type": "markdown",
      "source": [
        "spliting the dataset into training and test data"
      ],
      "metadata": {
        "id": "rn0Tqgh26R-a"
      }
    },
    {
      "cell_type": "code",
      "source": [
        "X_train,X_test,Y_train,Y_test = train_test_split(X,Y, test_size=0.33 , random_state= 2)"
      ],
      "metadata": {
        "id": "smjw72aM57oG"
      },
      "execution_count": 37,
      "outputs": []
    },
    {
      "cell_type": "markdown",
      "source": [
        "training the linear Regrssion model"
      ],
      "metadata": {
        "id": "N7rz2gMt664i"
      }
    },
    {
      "cell_type": "code",
      "source": [
        "model = linear_regression(learning_rate=0.002,no_of_iterations=1000)"
      ],
      "metadata": {
        "id": "HYbycJX_6y8z"
      },
      "execution_count": 67,
      "outputs": []
    },
    {
      "cell_type": "code",
      "source": [
        "print(X_train.shape,Y_train.shape)"
      ],
      "metadata": {
        "colab": {
          "base_uri": "https://localhost:8080/"
        },
        "id": "TUMjVtjE8XQN",
        "outputId": "a6e53349-d132-4eff-a439-64cbccd44e8e"
      },
      "execution_count": 68,
      "outputs": [
        {
          "output_type": "stream",
          "name": "stdout",
          "text": [
            "(20, 1) (20,)\n"
          ]
        }
      ]
    },
    {
      "cell_type": "code",
      "source": [
        "model.fit(X_train,Y_train)"
      ],
      "metadata": {
        "id": "Aqyvuw247ndF"
      },
      "execution_count": 69,
      "outputs": []
    },
    {
      "cell_type": "code",
      "source": [
        "# printing the parmeter values (weigth and bias)\n",
        "print(\"weights : \",model.w[0])\n",
        "print(\"bias : \",model.b)"
      ],
      "metadata": {
        "colab": {
          "base_uri": "https://localhost:8080/"
        },
        "id": "EMGeP0Rb8Mj5",
        "outputId": "fa42dc7a-f1b7-4e4e-9fce-3b5cc8f86c14"
      },
      "execution_count": 70,
      "outputs": [
        {
          "output_type": "stream",
          "name": "stdout",
          "text": [
            "weights :  10945.020784583106\n",
            "bias :  13472.151907043792\n"
          ]
        }
      ]
    },
    {
      "cell_type": "markdown",
      "source": [
        "predict the salary values for test data"
      ],
      "metadata": {
        "id": "SQloTtGt-179"
      }
    },
    {
      "cell_type": "code",
      "source": [
        "test_data_prediction = model.predict(X_test)\n",
        "test_data_prediction"
      ],
      "metadata": {
        "colab": {
          "base_uri": "https://localhost:8080/"
        },
        "id": "5RiVRXjn-HgX",
        "outputId": "faa85daf-87ef-44c5-85a7-b89e318705cf"
      },
      "execution_count": 71,
      "outputs": [
        {
          "output_type": "execute_result",
          "data": {
            "text/plain": [
              "array([ 27700.678927  ,  25511.67477009,  62724.74543767,  53968.72881   ,\n",
              "        91181.79947758,  79142.27661454, 103221.32234063,  46307.21426079,\n",
              "        35362.19347621,  87898.29324221])"
            ]
          },
          "metadata": {},
          "execution_count": 71
        }
      ]
    },
    {
      "cell_type": "markdown",
      "source": [
        "visualizling the predicted values & actual value"
      ],
      "metadata": {
        "id": "edZQyhu2_NgI"
      }
    },
    {
      "cell_type": "code",
      "source": [
        "plt.scatter(X_test,Y_test,color=\"red\")\n",
        "plt.plot(X_test,test_data_prediction,color=\"blue\")\n",
        "\n",
        "plt.xlabel(\"Years of Experience\")\n",
        "plt.ylabel(\"salary\")\n",
        "plt.title(\"salary vs experience\")\n",
        "plt.show()"
      ],
      "metadata": {
        "colab": {
          "base_uri": "https://localhost:8080/",
          "height": 295
        },
        "id": "ORqxPkSY-r1t",
        "outputId": "d209c616-764e-48cf-d1b3-4e365c502f84"
      },
      "execution_count": 72,
      "outputs": [
        {
          "output_type": "display_data",
          "data": {
            "text/plain": [
              "<Figure size 432x288 with 1 Axes>"
            ],
            "image/png": "[encoded data removed]"
          },
          "metadata": {
            "needs_background": "light"
          }
        }
      ]
    },
    {
      "cell_type": "code",
      "source": [
        " "
      ],
      "metadata": {
        "id": "hJRZOXwR_lSt"
      },
      "execution_count": 72,
      "outputs": []
    }
  ]
}