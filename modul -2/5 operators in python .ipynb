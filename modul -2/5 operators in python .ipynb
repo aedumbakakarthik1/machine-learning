{
 "cells": [
  {
   "cell_type": "markdown",
   "id": "6f13ede0",
   "metadata": {},
   "source": [
    "# operators in python|"
   ]
  },
  {
   "cell_type": "raw",
   "id": "aa78e53f",
   "metadata": {},
   "source": [
    "arithmetic operator\n",
    "assignment operator\n",
    "comparison operator\n",
    "logical operator\n",
    "identity operator\n",
    "membership operator"
   ]
  },
  {
   "cell_type": "code",
   "execution_count": 2,
   "id": "e5431ac8",
   "metadata": {},
   "outputs": [],
   "source": [
    "# arithmetic operator\n",
    "\n",
    "num_1 =20\n",
    "num_2 =10"
   ]
  },
  {
   "cell_type": "code",
   "execution_count": 4,
   "id": "dfad7a59",
   "metadata": {},
   "outputs": [
    {
     "name": "stdout",
     "output_type": "stream",
     "text": [
      "30\n",
      "10\n",
      "200\n",
      "2.0\n",
      "10240000000000\n",
      "0\n"
     ]
    }
   ],
   "source": [
    "#additional \n",
    "sum = num_1 +num_2\n",
    "print(sum)\n",
    "\n",
    "# subtraction \n",
    "diff = num_1 - num_2\n",
    "print(diff)\n",
    "\n",
    "# multiplication \n",
    "pro = num_1 * num_2\n",
    "print(pro)\n",
    "\n",
    "# division \n",
    "duo = num_1 /num_2\n",
    "print(duo)\n",
    "\n",
    "#exponent \n",
    "emp = num_1 ** num_2\n",
    "print(emp)\n",
    "\n",
    "# moduls\n",
    "mod = num_1 % num_2\n",
    "print(mod)"
   ]
  },
  {
   "cell_type": "markdown",
   "id": "348e1d33",
   "metadata": {},
   "source": [
    "# assignment operator\n"
   ]
  },
  {
   "cell_type": "code",
   "execution_count": 5,
   "id": "f1419649",
   "metadata": {},
   "outputs": [
    {
     "name": "stdout",
     "output_type": "stream",
     "text": [
      "5\n"
     ]
    }
   ],
   "source": [
    "a=5\n",
    "print(a)"
   ]
  },
  {
   "cell_type": "code",
   "execution_count": 6,
   "id": "8f34e426",
   "metadata": {},
   "outputs": [
    {
     "name": "stdout",
     "output_type": "stream",
     "text": [
      "10\n"
     ]
    }
   ],
   "source": [
    "a =5 \n",
    "a+=5  # a=a+5\n",
    "print(a)"
   ]
  },
  {
   "cell_type": "code",
   "execution_count": 8,
   "id": "be95027d",
   "metadata": {},
   "outputs": [
    {
     "name": "stdout",
     "output_type": "stream",
     "text": [
      "3\n"
     ]
    }
   ],
   "source": [
    "b=5\n",
    "b-=2 # b=b-2\n",
    "print(b)"
   ]
  },
  {
   "cell_type": "markdown",
   "id": "298c8389",
   "metadata": {},
   "source": [
    "# comparison operator\n"
   ]
  },
  {
   "cell_type": "code",
   "execution_count": 10,
   "id": "f90b4541",
   "metadata": {},
   "outputs": [
    {
     "name": "stdout",
     "output_type": "stream",
     "text": [
      "False\n",
      "True\n",
      "False\n",
      "True\n",
      "True\n",
      "False\n"
     ]
    }
   ],
   "source": [
    "a=5\n",
    "b=10\n",
    "\n",
    "print(a==b)  # equal\n",
    "print(a!=b)  # not equal\n",
    "print(a>b)   # greater\n",
    "print(a<b)\n",
    "print(a<=b)\n",
    "print(a>=b)"
   ]
  },
  {
   "cell_type": "markdown",
   "id": "8315dad3",
   "metadata": {},
   "source": [
    "# logical operator\n"
   ]
  },
  {
   "cell_type": "raw",
   "id": "33050651",
   "metadata": {},
   "source": [
    "and \n",
    "or\n",
    "not"
   ]
  },
  {
   "cell_type": "code",
   "execution_count": 12,
   "id": "97efdaf7",
   "metadata": {},
   "outputs": [
    {
     "name": "stdout",
     "output_type": "stream",
     "text": [
      "False\n",
      "True\n",
      "False\n"
     ]
    }
   ],
   "source": [
    "a=10\n",
    "print(a>20 and a>5)\n",
    "print(a>20 or a>5)\n",
    "print(not(a>8 and a>5))"
   ]
  },
  {
   "cell_type": "markdown",
   "id": "aca30e73",
   "metadata": {},
   "source": [
    "# identity operator\n"
   ]
  },
  {
   "cell_type": "raw",
   "id": "9551f819",
   "metadata": {},
   "source": [
    "is -> equal\n",
    "is not ->not equal"
   ]
  },
  {
   "cell_type": "code",
   "execution_count": 13,
   "id": "df1c2782",
   "metadata": {},
   "outputs": [
    {
     "name": "stdout",
     "output_type": "stream",
     "text": [
      "False\n"
     ]
    }
   ],
   "source": [
    "x=5\n",
    "y=10\n",
    "print(x is y)"
   ]
  },
  {
   "cell_type": "code",
   "execution_count": 14,
   "id": "af67a0d8",
   "metadata": {},
   "outputs": [
    {
     "name": "stdout",
     "output_type": "stream",
     "text": [
      "True\n"
     ]
    }
   ],
   "source": [
    "x=5\n",
    "y=10\n",
    "print(x is not y)"
   ]
  },
  {
   "cell_type": "markdown",
   "id": "75ebd636",
   "metadata": {},
   "source": [
    "# membership operator"
   ]
  },
  {
   "cell_type": "raw",
   "id": "f5204996",
   "metadata": {},
   "source": [
    "in \n",
    "not in"
   ]
  },
  {
   "cell_type": "code",
   "execution_count": 16,
   "id": "ada4d2b1",
   "metadata": {},
   "outputs": [
    {
     "name": "stdout",
     "output_type": "stream",
     "text": [
      "True\n",
      "False\n"
     ]
    }
   ],
   "source": [
    "a=5\n",
    "b=10\n",
    "c=[1,2,3,4,5,6]\n",
    "print(a in c)\n",
    "print(b in c)"
   ]
  },
  {
   "cell_type": "code",
   "execution_count": 17,
   "id": "c8c09f50",
   "metadata": {},
   "outputs": [
    {
     "name": "stdout",
     "output_type": "stream",
     "text": [
      "False\n",
      "True\n"
     ]
    }
   ],
   "source": [
    "a=5\n",
    "b=10\n",
    "c=[1,2,3,4,5,6]\n",
    "print(a not in c)\n",
    "print(b not in c)"
   ]
  },
  {
   "cell_type": "code",
   "execution_count": null,
   "id": "cafd0320",
   "metadata": {},
   "outputs": [],
   "source": []
  }
 ],
 "metadata": {
  "kernelspec": {
   "display_name": "Python 3 (ipykernel)",
   "language": "python",
   "name": "python3"
  },
  "language_info": {
   "codemirror_mode": {
    "name": "ipython",
    "version": 3
   },
   "file_extension": ".py",
   "mimetype": "text/x-python",
   "name": "python",
   "nbconvert_exporter": "python",
   "pygments_lexer": "ipython3",
   "version": "3.9.12"
  }
 },
 "nbformat": 4,
 "nbformat_minor": 5
}
